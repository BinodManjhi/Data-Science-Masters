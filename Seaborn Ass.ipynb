{
 "cells": [
  {
   "cell_type": "markdown",
   "id": "ad7d07fc-88ef-4d52-bd4b-65f5f5cad1fe",
   "metadata": {},
   "source": [
    "**Que 1: Name any five plots that we can plot using the Seaborn library. Also, state the uses of each plot.**"
   ]
  },
  {
   "cell_type": "markdown",
   "id": "7a9613a0-ca0f-4117-bea2-69ee63fe7317",
   "metadata": {},
   "source": [
    "Seaborn is a data visualization library in Python that is based on Matplotlib and provides a high-level interface for creating informative and attractive statistical graphics. Here are five commonly used plots in Seaborn along with their uses:\n",
    "\n",
    "1. **Scatter Plot:**\n",
    "   - **Use:** Visualize the relationship between two numerical variables.\n",
    "   - **Seaborn Function:** `seaborn.scatterplot()`\n",
    "\n",
    "2. **Line Plot:**\n",
    "   - **Use:** Display the trend of a numerical variable over a continuous interval or time.\n",
    "   - **Seaborn Function:** `seaborn.lineplot()`\n",
    "\n",
    "3. **Bar Plot:**\n",
    "   - **Use:** Compare categorical data and show the distribution of a numerical variable for each category.\n",
    "   - **Seaborn Function:** `seaborn.barplot()`\n",
    "\n",
    "4. **Histogram:**\n",
    "   - **Use:** Display the distribution of a single numerical variable and show the underlying frequency distribution.\n",
    "   - **Seaborn Function:** `seaborn.histplot()`\n",
    "\n",
    "5. **Box Plot (Box-and-Whisker Plot):**\n",
    "   - **Use:** Summarize the distribution of a numerical variable and identify outliers.\n",
    "   - **Seaborn Function:** `seaborn.boxplot()`\n",
    "\n",
    "These plots are just a subset of the many plotting functions available in Seaborn. Each plot type is suitable for different types of data and analytical tasks, providing a variety of tools for data exploration and presentation."
   ]
  },
  {
   "cell_type": "markdown",
   "id": "a9c3ac6c-9de1-4291-807a-6e3b73ee2a88",
   "metadata": {},
   "source": [
    "**Que 2: Load the \"fmri\" dataset using the load_dataset function of seaborn.**<br>\n",
    "Plot a line plot using x = \"timepoint\" and y = \"signal\" for different events and regions.<br>\n",
    "\n",
    "Note: timepoint, signal, event, and region are columns in the fmri dataset."
   ]
  },
  {
   "cell_type": "markdown",
   "id": "32734c12-34a6-4feb-8188-ec20f91c831a",
   "metadata": {},
   "source": [
    "Certainly! To achieve this, you can use the `load_dataset` function from Seaborn to load the \"fmri\" dataset and then create a line plot using the specified columns. Here's an example code:\n",
    "\n",
    "```python\n",
    "import seaborn as sns\n",
    "import matplotlib.pyplot as plt\n",
    "\n",
    "# Load the \"fmri\" dataset\n",
    "fmri_data = sns.load_dataset(\"fmri\")\n",
    "\n",
    "# Plot a line plot for different events and regions\n",
    "sns.lineplot(x=\"timepoint\", y=\"signal\", hue=\"event\", style=\"region\", data=fmri_data)\n",
    "\n",
    "# Add labels and a title\n",
    "plt.xlabel(\"Timepoint\")\n",
    "plt.ylabel(\"Signal\")\n",
    "plt.title(\"Line Plot of Signal over Time for Different Events and Regions\")\n",
    "\n",
    "# Display the plot\n",
    "plt.show()\n",
    "```\n",
    "\n",
    "In this code:\n",
    "- `sns.load_dataset(\"fmri\")` loads the \"fmri\" dataset.\n",
    "- `sns.lineplot()` is used to create the line plot. The `x=\"timepoint\"` and `y=\"signal\"` parameters specify the columns for the x-axis and y-axis, respectively. The `hue=\"event\"` and `style=\"region\"` parameters differentiate the lines based on the \"event\" and \"region\" columns.\n",
    "- Finally, labels and a title are added, and the plot is displayed using `plt.show()`.\n",
    "\n",
    "Adjust the code as needed based on your specific requirements and preferences."
   ]
  },
  {
   "cell_type": "markdown",
   "id": "bb67d563-8ae2-467d-bc29-fd82ff9d1363",
   "metadata": {},
   "source": [
    "**Que 3: Load the \"titanic\" dataset using the load_dataset function of seaborn.**<br>\n",
    "Plot two box plots using x ='pclass', y = 'age' and y = 'fare'.<br>\n",
    "\n",
    "Note: pclass, age, and fare are columns in the titanic dataset."
   ]
  },
  {
   "cell_type": "markdown",
   "id": "bebcdb14-cb4c-495b-aaf3-d4ce8a36f300",
   "metadata": {},
   "source": [
    "Certainly! You can use the `load_dataset` function from Seaborn to load the \"titanic\" dataset and then create two box plots for the specified columns. Here's an example code:\n",
    "\n",
    "```python\n",
    "import seaborn as sns\n",
    "import matplotlib.pyplot as plt\n",
    "\n",
    "# Load the \"titanic\" dataset\n",
    "titanic_data = sns.load_dataset(\"titanic\")\n",
    "\n",
    "# Create two box plots for 'pclass' vs 'age' and 'pclass' vs 'fare'\n",
    "plt.figure(figsize=(12, 6))\n",
    "\n",
    "# Box plot for 'pclass' vs 'age'\n",
    "plt.subplot(1, 2, 1)\n",
    "sns.boxplot(x='pclass', y='age', data=titanic_data)\n",
    "plt.title('Box Plot of Age by Pclass')\n",
    "\n",
    "# Box plot for 'pclass' vs 'fare'\n",
    "plt.subplot(1, 2, 2)\n",
    "sns.boxplot(x='pclass', y='fare', data=titanic_data)\n",
    "plt.title('Box Plot of Fare by Pclass')\n",
    "\n",
    "# Adjust layout\n",
    "plt.tight_layout()\n",
    "\n",
    "# Display the plots\n",
    "plt.show()\n",
    "```\n",
    "\n",
    "In this code:\n",
    "- `sns.load_dataset(\"titanic\")` loads the \"titanic\" dataset.\n",
    "- Two subplots are created using `plt.subplot(1, 2, 1)` and `plt.subplot(1, 2, 2)` to accommodate the box plots side by side.\n",
    "- `sns.boxplot()` is used to create box plots for 'pclass' vs 'age' and 'pclass' vs 'fare'.\n",
    "- Labels, titles, and layout adjustments are added for better visualization.\n",
    "\n",
    "Adjust the code based on your specific needs or preferences."
   ]
  },
  {
   "cell_type": "markdown",
   "id": "4db8fa26-64ce-4641-9635-eb3652e7408a",
   "metadata": {},
   "source": [
    "**Que 4: Use the \"diamonds\" dataset from seaborn to plot a histogram for the 'price' column. Use the hue\n",
    "parameter for the 'cut' column of the diamonds dataset.**"
   ]
  },
  {
   "cell_type": "markdown",
   "id": "5197fa39-e5f3-49ec-b2c2-6dc9d8deb1b3",
   "metadata": {},
   "source": [
    "Certainly! To plot a histogram for the 'price' column in the \"diamonds\" dataset from Seaborn and use the 'cut' column as the hue parameter, you can use the following code:\n",
    "\n",
    "```python\n",
    "import seaborn as sns\n",
    "import matplotlib.pyplot as plt\n",
    "\n",
    "# Load the \"diamonds\" dataset\n",
    "diamonds_data = sns.load_dataset(\"diamonds\")\n",
    "\n",
    "# Plot a histogram for 'price' with 'cut' as the hue\n",
    "plt.figure(figsize=(10, 6))\n",
    "sns.histplot(data=diamonds_data, x='price', hue='cut', multiple=\"stack\", bins=30, kde=True)\n",
    "\n",
    "# Add labels and a title\n",
    "plt.xlabel('Price')\n",
    "plt.ylabel('Count')\n",
    "plt.title('Histogram of Diamond Prices by Cut')\n",
    "\n",
    "# Display the plot\n",
    "plt.show()\n",
    "```\n",
    "\n",
    "In this code:\n",
    "- `sns.load_dataset(\"diamonds\")` loads the \"diamonds\" dataset.\n",
    "- `sns.histplot()` is used to create a histogram. The `x='price'` parameter specifies the column for the x-axis, and `hue='cut'` indicates that the 'cut' column should be used for color differentiation.\n",
    "- `multiple=\"stack\"` is used to stack the histograms for different 'cut' categories.\n",
    "- Adjustments are made for bins, kernel density estimation (kde), labels, and title.\n",
    "\n",
    "Feel free to adjust the code based on your specific requirements and preferences."
   ]
  },
  {
   "cell_type": "markdown",
   "id": "791b541d-15dc-40ef-8fe4-3c4c85b6bab3",
   "metadata": {},
   "source": [
    "Certainly! To plot a pair plot for the \"iris\" dataset from Seaborn and use the 'species' column as the hue parameter, you can use the following code:\n",
    "\n",
    "```python\n",
    "import seaborn as sns\n",
    "import matplotlib.pyplot as plt\n",
    "\n",
    "# Load the \"iris\" dataset\n",
    "iris_data = sns.load_dataset(\"iris\")\n",
    "\n",
    "# Plot a pair plot with hue='species'\n",
    "sns.pairplot(iris_data, hue='species')\n",
    "\n",
    "# Display the plot\n",
    "plt.show()\n",
    "```\n",
    "\n",
    "In this code:\n",
    "\n",
    "1. `sns.load_dataset(\"iris\")` loads the \"iris\" dataset.\n",
    "2. `sns.pairplot()` is used to create a pair plot. The `hue='species'` parameter indicates that the 'species' column should be used to color differentiate the data points.\n",
    "3. The plot is displayed using `plt.show()`.\n",
    "\n",
    "The pair plot will show scatterplots for each pair of features in the dataset, with different colors representing different species of iris flowers. This visualization is helpful for understanding the relationships between different features and how they vary across different species. Adjustments can be made based on your specific requirements and preferences."
   ]
  },
  {
   "cell_type": "markdown",
   "id": "5821e981-08b2-44f2-810d-d657e7233bc4",
   "metadata": {},
   "source": [
    "**Que 6: Use the \"flights\" dataset from seaborn to plot a heatmap.**"
   ]
  },
  {
   "cell_type": "markdown",
   "id": "822f6112-2769-4773-bcf7-deae413a3fb6",
   "metadata": {},
   "source": [
    "Certainly! To plot a heatmap using the \"flights\" dataset from Seaborn, you can use the following code:\n",
    "\n",
    "```python\n",
    "import seaborn as sns\n",
    "import matplotlib.pyplot as plt\n",
    "\n",
    "# Load the \"flights\" dataset\n",
    "flights_data = sns.load_dataset(\"flights\")\n",
    "\n",
    "# Pivot the dataset to create a matrix suitable for a heatmap\n",
    "flights_pivot = flights_data.pivot_table(index='month', columns='year', values='passengers')\n",
    "\n",
    "# Plot the heatmap\n",
    "plt.figure(figsize=(10, 8))\n",
    "sns.heatmap(flights_pivot, cmap='viridis', annot=True, fmt='d', linewidths=.5)\n",
    "\n",
    "# Add labels and a title\n",
    "plt.xlabel('Year')\n",
    "plt.ylabel('Month')\n",
    "plt.title('Passenger Counts - Flights Dataset')\n",
    "\n",
    "# Display the plot\n",
    "plt.show()\n",
    "```\n",
    "\n",
    "In this code:\n",
    "\n",
    "1. `sns.load_dataset(\"flights\")` loads the \"flights\" dataset.\n",
    "2. `flights_data.pivot_table(...)` pivots the dataset to create a matrix where rows represent months, columns represent years, and the values are the passenger counts.\n",
    "3. `sns.heatmap(...)` is used to create the heatmap. The `cmap='viridis'` parameter sets the color map, `annot=True` adds annotations (numbers) to the cells, `fmt='d'` specifies the format of the annotations as integers, and `linewidths=.5` adds grid lines for better readability.\n",
    "4. Labels and a title are added for better understanding of the plot.\n",
    "5. The plot is displayed using `plt.show()`.\n",
    "\n",
    "This heatmap visualizes the passenger counts across months and years, providing a quick overview of how passenger counts vary over time. Adjust the code as needed based on your preferences."
   ]
  }
 ],
 "metadata": {
  "kernelspec": {
   "display_name": "Python 3 (ipykernel)",
   "language": "python",
   "name": "python3"
  },
  "language_info": {
   "codemirror_mode": {
    "name": "ipython",
    "version": 3
   },
   "file_extension": ".py",
   "mimetype": "text/x-python",
   "name": "python",
   "nbconvert_exporter": "python",
   "pygments_lexer": "ipython3",
   "version": "3.10.8"
  }
 },
 "nbformat": 4,
 "nbformat_minor": 5
}
