{
 "cells": [
  {
   "cell_type": "markdown",
   "id": "447714d7-dd94-4772-8e79-1f7c0e4ce62f",
   "metadata": {},
   "source": [
    "**Q1. Write a code to print the data present in the second row of the dataframe, df.**"
   ]
  },
  {
   "cell_type": "code",
   "execution_count": 1,
   "id": "e02e7c5c-d585-4005-bb2b-eb06993aad60",
   "metadata": {},
   "outputs": [
    {
     "name": "stdout",
     "output_type": "stream",
     "text": [
      "course_name    Machine Learning\n",
      "duration                      3\n",
      "Name: 1, dtype: object\n"
     ]
    }
   ],
   "source": [
    "import pandas as pd\n",
    "course_name = ['Data Science', 'Machine Learning', 'Big Data', 'Data Engineer']\n",
    "duration = [2,3,6,4]\n",
    "df = pd.DataFrame(data = {'course_name' : course_name, 'duration' : duration})\n",
    "print(df.iloc[1])"
   ]
  },
  {
   "cell_type": "markdown",
   "id": "661d8d0e-239b-4e8e-9c09-8343537f7c5f",
   "metadata": {},
   "source": [
    "**Q2. What is the difference between the functions loc and iloc in pandas.DataFrame?**"
   ]
  },
  {
   "cell_type": "markdown",
   "id": "a5bbf882-ad26-4d61-8f6c-be27c6b7696c",
   "metadata": {},
   "source": [
    "The loc function is label-based, meaning that you specify the row or column label when using it. The iloc function is integer-location based, meaning that you specify the numerical index of the row or column when using it."
   ]
  },
  {
   "cell_type": "markdown",
   "id": "1033fc4e-b9f4-46af-b573-5c3b96904fa4",
   "metadata": {},
   "source": [
    "**Q3. Reindex the given dataframe using a variable, reindex = [3,0,1,2] and store it in the variable, new_df\n",
    "then find the output for both new_df.loc[2] and new_df.iloc[2].**"
   ]
  },
  {
   "cell_type": "markdown",
   "id": "bc856e66-c194-4bfc-8fd2-e53aab1b1215",
   "metadata": {},
   "source": [
    "Did you observe any difference in both the outputs? If so then explain it.<br>\n",
    "Consider the below code to answer further questions:<br>\n",
    "import pandas as pd<br>\n",
    "import numpy as np<br>\n",
    "columns = ['column_1', 'column_2', 'column_3', 'column_4', 'column_5', 'column_6']<br>\n",
    "indices = [1,2,3,4,5,6]<br>\n",
    "#Creating a dataframe:<br>\n",
    "df1 = pd.DataFrame(np.random.rand(6,6), columns = columns, index = indices)<br>"
   ]
  },
  {
   "cell_type": "markdown",
   "id": "93e202ba-53bf-4abf-9495-8a18bbdfec43",
   "metadata": {},
   "source": [
    "Certainly! Let's reindex the given DataFrame using the provided variable `reindex = [3,0,1,2]` and then examine the outputs for both `new_df.loc[2]` and `new_df.iloc[2]`. Here's the code to achieve this:\n",
    "\n",
    "```python\n",
    "import pandas as pd\n",
    "import numpy as np\n",
    "\n",
    "# Given DataFrame creation\n",
    "columns = ['column_1', 'column_2', 'column_3', 'column_4', 'column_5', 'column_6']\n",
    "indices = [1, 2, 3, 4, 5, 6]\n",
    "df1 = pd.DataFrame(np.random.rand(6, 6), columns=columns, index=indices)\n",
    "\n",
    "# Given reindex order\n",
    "reindex_order = [3, 0, 1, 2]\n",
    "\n",
    "# Reindex the DataFrame\n",
    "new_df = df1.reindex(reindex_order)\n",
    "\n",
    "# Output for new_df.loc[2]\n",
    "output_loc = new_df.loc[2]\n",
    "\n",
    "# Output for new_df.iloc[2]\n",
    "output_iloc = new_df.iloc[2]\n",
    "\n",
    "print(\"DataFrame after reindexing:\")\n",
    "print(new_df)\n",
    "print(\"\\nOutput for new_df.loc[2]:\")\n",
    "print(output_loc)\n",
    "print(\"\\nOutput for new_df.iloc[2]:\")\n",
    "print(output_iloc)\n",
    "```\n",
    "\n",
    "Now, let's discuss the potential differences in the outputs for `new_df.loc[2]` and `new_df.iloc[2]`:\n",
    "\n",
    "- `new_df.loc[2]`: This uses the label-based indexing. It will return the row with the label/index '2' in the DataFrame after reindexing.\n",
    "\n",
    "- `new_df.iloc[2]`: This uses positional-based indexing. It will return the third row in the DataFrame after reindexing.\n",
    "\n",
    "Since we have reindexed the DataFrame using the order `[3, 0, 1, 2]`, the row that originally had label/index '2' is now at the position '1' after reindexing. Therefore, you may observe a difference in the content of `new_df.loc[2]` and `new_df.iloc[2]`. The difference is due to the use of different indexing methods (label-based vs. positional-based) on the DataFrame with the new index order."
   ]
  },
  {
   "cell_type": "markdown",
   "id": "803b257c-3989-494c-8db9-60f0825c2cb6",
   "metadata": {},
   "source": [
    "**Q4. Write a code to find the following statistical measurements for the above dataframe df1:**<br>\n",
    "(i) mean of each and every column present in the dataframe.<br>\n",
    "(ii) standard deviation of column, ‘column_2’<br>"
   ]
  },
  {
   "cell_type": "code",
   "execution_count": 3,
   "id": "0c6d8a72-2443-47e1-ae89-b0965a341183",
   "metadata": {},
   "outputs": [
    {
     "name": "stdout",
     "output_type": "stream",
     "text": [
      "Mean of each column:\n",
      "column_1    0.264204\n",
      "column_2    0.570848\n",
      "column_3    0.472812\n",
      "column_4    0.719122\n",
      "column_5    0.363670\n",
      "column_6    0.808089\n",
      "dtype: float64\n",
      "\n",
      "Standard deviation of 'column_2': 0.28499355791074327\n"
     ]
    }
   ],
   "source": [
    "import pandas as pd\n",
    "import numpy as np\n",
    "\n",
    "# Given DataFrame creation\n",
    "columns = ['column_1', 'column_2', 'column_3', 'column_4', 'column_5', 'column_6']\n",
    "indices = [1, 2, 3, 4, 5, 6]\n",
    "df1 = pd.DataFrame(np.random.rand(6, 6), columns=columns, index=indices)\n",
    "\n",
    "# (i) Mean of each and every column\n",
    "column_means = df1.mean()\n",
    "\n",
    "# (ii) Standard deviation of column 'column_2'\n",
    "column_2_std = df1['column_2'].std()\n",
    "\n",
    "# Display the results\n",
    "print(\"Mean of each column:\")\n",
    "print(column_means)\n",
    "\n",
    "print(\"\\nStandard deviation of 'column_2':\", column_2_std)\n"
   ]
  },
  {
   "cell_type": "markdown",
   "id": "82e831b2-37c8-4434-85e0-52568c2381f8",
   "metadata": {},
   "source": [
    "**Q5. Replace the data present in the second row of column, ‘column_2’ by a string variable then find the\n",
    "mean of column, column_2.**<br>\n",
    "If you are getting errors in executing it then explain why.<br>\n",
    "[Hint: To replace the data use df1.loc[] and equate this to string data of your choice.]<br>"
   ]
  },
  {
   "cell_type": "markdown",
   "id": "f5ecc70b-a264-4538-82d4-2a490294f24d",
   "metadata": {},
   "source": [
    "Certainly! You can replace the data in the second row of 'column_2' with a string variable using the `loc` method, and then calculate the mean of 'column_2'. However, keep in mind that if you replace the numerical data with a string, you might encounter errors when trying to calculate the mean, as mean calculation typically involves numerical values.\n",
    "\n",
    "Here's the code:\n",
    "\n",
    "```python\n",
    "import pandas as pd\n",
    "import numpy as np\n",
    "\n",
    "# Given DataFrame creation\n",
    "columns = ['column_1', 'column_2', 'column_3', 'column_4', 'column_5', 'column_6']\n",
    "indices = [1, 2, 3, 4, 5, 6]\n",
    "df1 = pd.DataFrame(np.random.rand(6, 6), columns=columns, index=indices)\n",
    "\n",
    "# Replace the data in the second row of 'column_2' with a string variable\n",
    "string_data = \"Hello, World!\"\n",
    "df1.loc[2, 'column_2'] = string_data\n",
    "\n",
    "# Attempt to calculate the mean of 'column_2'\n",
    "try:\n",
    "    column_2_mean = df1['column_2'].mean()\n",
    "    print(\"Mean of 'column_2':\", column_2_mean)\n",
    "except Exception as e:\n",
    "    print(\"Error:\", e)\n",
    "```\n",
    "\n",
    "If you replace a numerical value with a string in a column and then try to calculate the mean, you'll likely encounter an error similar to:\n",
    "\n",
    "```\n",
    "TypeError: can only concatenate str (not \"float\") to str\n",
    "```\n",
    "\n",
    "This error occurs because the mean operation requires numerical values, and attempting to perform arithmetic operations with a string and a numerical value raises a `TypeError`. If you want to calculate the mean, ensure that the data in 'column_2' is numerical. If you want to keep the string data, you may need to convert the column to a data type that supports both strings and numerical values, such as `object`."
   ]
  },
  {
   "cell_type": "markdown",
   "id": "4fca19b6-a27d-44a7-a1a1-3fe8cd9db7e5",
   "metadata": {},
   "source": [
    "**Q6. What do you understand about the windows function in pandas and list the types of windows\n",
    "functions?**"
   ]
  },
  {
   "cell_type": "markdown",
   "id": "470fa242-acaf-48b6-b082-c6b0e8a8ba82",
   "metadata": {},
   "source": [
    "In pandas, window functions are operations that perform computations on a set of data points defined by a window of consecutive rows in a DataFrame. These functions are particularly useful for analyzing time series data, where calculations are based on a moving or rolling window of observations.\n",
    "\n",
    "The general syntax for using window functions in pandas involves the `rolling()` method on a DataFrame or a Series, followed by an aggregation function. Here's a brief overview of the key concepts:\n",
    "\n",
    "1. **Rolling Windows:**\n",
    "   - A rolling window is a fixed-size subset of data that moves or \"rolls\" along the index of the DataFrame or Series.\n",
    "   - It allows you to perform calculations on a subset of the data, updating the window for each observation.\n",
    "\n",
    "2. **Types of Window Functions:**\n",
    "   - **Aggregating Functions:** These functions aggregate the values within the window to a single value. Examples include mean, sum, min, max, etc.\n",
    "   ```python\n",
    "   df['column'].rolling(window=3).mean()\n",
    "   ```\n",
    "\n",
    "   - **Transformation Functions:** These functions return a Series of the same size as the input, applying a transformation to each window.\n",
    "   ```python\n",
    "   df['column'].rolling(window=3).apply(lambda x: x[0] + x[1])\n",
    "   ```\n",
    "\n",
    "   - **Expanding Windows:** Expanding windows include all previous rows from the start of the DataFrame up to the current row. They grow in size with each new observation.\n",
    "   ```python\n",
    "   df['column'].expanding().sum()\n",
    "   ```\n",
    "\n",
    "   - **EWMA (Exponentially Weighted Moving Average):** This is a type of window function that assigns exponentially decreasing weights to the values in the window. It's useful for giving more importance to recent observations.\n",
    "   ```python\n",
    "   df['column'].ewm(span=3).mean()\n",
    "   ```\n",
    "\n",
    "   - **Custom Functions:** You can apply custom functions to the window using the `apply` method.\n",
    "   ```python\n",
    "   df['column'].rolling(window=3).apply(lambda x: my_custom_function(x))\n",
    "   ```\n",
    "\n",
    "These window functions are powerful tools for analyzing trends, patterns, and dependencies within time series or sequential data. They provide flexibility in handling different types of calculations and can be customized according to specific requirements."
   ]
  },
  {
   "cell_type": "markdown",
   "id": "6f9af189-75b3-4763-9289-d9454b57e957",
   "metadata": {},
   "source": [
    "**Q7. Write a code to print only the current month and year at the time of answering this question.**<br>\n",
    "[Hint: Use pandas.datetime function]"
   ]
  },
  {
   "cell_type": "markdown",
   "id": "bf2b0967-12c9-42f4-aa44-87758de382c9",
   "metadata": {},
   "source": [
    "Certainly! You can use the `datetime` module in Python to get the current date and then format it to display only the month and year. Here's a simple code snippet to achieve this:\n",
    "\n",
    "```python\n",
    "from datetime import datetime\n",
    "\n",
    "# Get the current date\n",
    "current_date = datetime.now()\n",
    "\n",
    "# Format the current date to display only the month and year\n",
    "formatted_date = current_date.strftime(\"%B %Y\")\n",
    "\n",
    "# Print the result\n",
    "print(\"Current Month and Year:\", formatted_date)\n",
    "```\n",
    "\n",
    "In this code:\n",
    "\n",
    "- `datetime.now()` gets the current date and time.\n",
    "- `strftime(\"%B %Y\")` formats the date to display the full month name followed by the year.\n",
    "\n",
    "The output will look something like:\n",
    "\n",
    "```\n",
    "Current Month and Year: November 2023\n",
    "```\n",
    "\n",
    "Note: The output will vary depending on the current date when you run the code."
   ]
  },
  {
   "cell_type": "markdown",
   "id": "a6c29385-f84d-48fc-bb9f-bb682d57344c",
   "metadata": {},
   "source": [
    "**Q8.Write a Python program that takes in two dates as input (in the format YYYY-MM-DD) and\n",
    "calculates the difference between them in days, hours, and minutes using Pandas time delta. The\n",
    "program should prompt the user to enter the dates and display the result.**"
   ]
  },
  {
   "cell_type": "markdown",
   "id": "e25c59ea-9399-4b8c-9e9b-3460b07af15c",
   "metadata": {},
   "source": [
    "```python\n",
    "import pandas as pd\n",
    "\n",
    "# Prompt user to enter the dates\n",
    "date1_str = input(\"Enter the first date (YYYY-MM-DD): \")\n",
    "date2_str = input(\"Enter the second date (YYYY-MM-DD): \")\n",
    "\n",
    "# Convert the dates to datetime format\n",
    "date1 = pd.to_datetime(date1_str)\n",
    "date2 = pd.to_datetime(date2_str)\n",
    "\n",
    "# Calculate the time delta\n",
    "time_delta = date2 - date1\n",
    "\n",
    "# Calculate the difference in days, hours, and minutes\n",
    "days = time_delta.days\n",
    "hours = time_delta.seconds // 3600\n",
    "minutes = (time_delta.seconds // 60) % 60\n",
    "\n",
    "# Print the results\n",
    "print(\"Difference in days:\", days)\n",
    "print(\"Difference in hours:\", hours)\n",
    "print(\"Difference in minutes:\", minutes)\n",
    "```\n"
   ]
  },
  {
   "cell_type": "markdown",
   "id": "958b7f1f-a0e9-415b-9d46-7244678bdae1",
   "metadata": {},
   "source": [
    "**Q9. Write a Python program that reads a CSV file containing categorical data and converts a specified\n",
    "column to a categorical data type. The program should prompt the user to enter the file path, column\n",
    "name, and category order, and then display the sorted data.**"
   ]
  },
  {
   "cell_type": "markdown",
   "id": "ed59d39a-1a7c-4241-a0bd-165ec3cdf21d",
   "metadata": {},
   "source": [
    "```python\n",
    "import pandas as pd\n",
    "\n",
    "# Prompt user to enter the file path\n",
    "file_path = input(\"Enter the CSV file path: \")\n",
    "\n",
    "# Prompt user to enter the column name\n",
    "column_name = input(\"Enter the column name to convert to categorical: \")\n",
    "\n",
    "# Prompt user to enter the category order\n",
    "category_order = input(\"Enter the category order (separated by commas): \")\n",
    "\n",
    "# Convert the category order into a list\n",
    "category_list = category_order.split(\",\")\n",
    "\n",
    "# Read the CSV file into a pandas DataFrame\n",
    "df = pd.read_csv(file_path)\n",
    "\n",
    "# Convert the specified column to categorical data type\n",
    "df[column_name] = pd.Categorical(df[column_name], categories=category_list)\n",
    "\n",
    "# Sort the data by the specified column\n",
    "df = df.sort_values(by=column_name)\n",
    "\n",
    "# Display the sorted data\n",
    "print(df)\n",
    "```"
   ]
  },
  {
   "cell_type": "markdown",
   "id": "0b532ef7-a8ac-4b65-8a5a-283a03f5be18",
   "metadata": {},
   "source": [
    "**Q10. Write a Python program that reads a CSV file containing sales data for different products and\n",
    "visualizes the data using a stacked bar chart to show the sales of each product category over time. The\n",
    "program should prompt the user to enter the file path and display the chart.**"
   ]
  },
  {
   "cell_type": "markdown",
   "id": "bfe60fb2-252d-4960-8f7f-f219590ae440",
   "metadata": {},
   "source": [
    "To achieve this task, you can use the `pandas` library for reading and manipulating the CSV data, and `matplotlib` for creating the stacked bar chart. Make sure to install these libraries if you haven't already by running `pip install pandas matplotlib`.\n",
    "\n",
    "Here's a simple Python program that does what you're looking for:\n",
    "\n",
    "```python\n",
    "import pandas as pd\n",
    "import matplotlib.pyplot as plt\n",
    "\n",
    "def visualize_sales_data(file_path):\n",
    "    # Read CSV file into a DataFrame\n",
    "    try:\n",
    "        df = pd.read_csv(file_path)\n",
    "    except FileNotFoundError:\n",
    "        print(\"File not found. Please check the file path.\")\n",
    "        return\n",
    "    except pd.errors.EmptyDataError:\n",
    "        print(\"The file is empty.\")\n",
    "        return\n",
    "\n",
    "    # Assuming the CSV has columns 'Date', 'Product_Category_1', 'Product_Category_2', ...\n",
    "    # You may need to adjust column names based on your actual CSV file.\n",
    "    \n",
    "    # Convert the 'Date' column to datetime format\n",
    "    df['Date'] = pd.to_datetime(df['Date'])\n",
    "\n",
    "    # Group by 'Date' and sum the sales for each product category\n",
    "    grouped_data = df.groupby('Date').sum()\n",
    "\n",
    "    # Plot a stacked bar chart\n",
    "    plt.figure(figsize=(10, 6))\n",
    "    plt.bar(grouped_data.index, grouped_data['Product_Category_1'], label='Category 1')\n",
    "    plt.bar(grouped_data.index, grouped_data['Product_Category_2'], bottom=grouped_data['Product_Category_1'], label='Category 2')\n",
    "    # Add more categories as needed\n",
    "\n",
    "    plt.xlabel('Date')\n",
    "    plt.ylabel('Sales')\n",
    "    plt.title('Sales Data Over Time')\n",
    "    plt.legend()\n",
    "    plt.show()\n",
    "\n",
    "if __name__ == \"__main__\":\n",
    "    # Prompt the user to enter the file path\n",
    "    file_path = input(\"Enter the path to the CSV file: \")\n",
    "    \n",
    "    # Visualize the data\n",
    "    visualize_sales_data(file_path)\n",
    "```\n",
    "\n",
    "Please note that you might need to adjust column names and chart customization based on the structure of your actual CSV file. The above code assumes that the CSV file has a 'Date' column and columns for each product category."
   ]
  },
  {
   "cell_type": "markdown",
   "id": "52df638e-e260-48c3-afd2-ca1c150ed0e5",
   "metadata": {},
   "source": [
    "**Q11. You are given a CSV file containing student data that includes the student ID and their test score. Write\n",
    "a Python program that reads the CSV file, calculates the mean, median, and mode of the test scores, and\n",
    "displays the results in a table.**<br>\n",
    "The program should do the following:<br>\n",
    "I Prompt the user to enter the file path of the CSV file containing the student data.<br>\n",
    "I Read the CSV file into a Pandas DataFrame.<br>\n",
    "I Calculate the mean, median, and mode of the test scores using Pandas tools.<br>\n",
    "I Display the mean, median, and mode in a table.<br>\n",
    "Assume the CSV file contains the following columns:<br>\n",
    "I Student ID: The ID of the student.<br>\n",
    "I Test Score: The score of the student's test.<br>\n",
    "Example usage of the program:<br>\n",
    "Enter the file path of the CSV file containing the student data: student_data.csv<br>\n",
    "+-----------+--------+<br>\n",
    "| Statistic | Value |<br>\n",
    "+-----------+--------+<br>\n",
    "| Mean | 79.6 |<br>\n",
    "| Median | 82 |<br>\n",
    "| Mode | 85, 90 |<br>\n",
    "+-----------+--------+<br>\n",
    "Assume that the CSV file student_data.csv contains the following data:<br>\n",
    "Student ID,Test Score<br>\n",
    "1,85<br>\n",
    "2,90<br>\n",
    "3,80<br>\n",
    "4,75<br>\n",
    "5,85<br>\n",
    "6,82<br>\n",
    "7,78<br>\n",
    "8,85<br>\n",
    "9,90<br>\n",
    "10,85<br>\n",
    "The program should calculate the mean, median, and mode of the test scores and display the results\n",
    "in a table."
   ]
  },
  {
   "cell_type": "markdown",
   "id": "c5e1d48b-60ec-4437-bf18-6083f5abbd7d",
   "metadata": {},
   "source": [
    "To achieve this task, you can use the `pandas` library in Python to read the CSV file and perform the required calculations. Here's a Python program that does what you're asking for:\n",
    "\n",
    "```python\n",
    "import pandas as pd\n",
    "\n",
    "def calculate_statistics(df):\n",
    "    mean = df['Test Score'].mean()\n",
    "    median = df['Test Score'].median()\n",
    "    mode = df['Test Score'].mode().tolist()\n",
    "    return mean, median, mode\n",
    "\n",
    "def display_results(mean, median, mode):\n",
    "    print(\"+-----------+--------+\")\n",
    "    print(\"| Statistic | Value  |\")\n",
    "    print(\"+-----------+--------+\")\n",
    "    print(f\"| Mean      | {mean:.1f}   |\")\n",
    "    print(f\"| Median    | {median}   |\")\n",
    "    print(f\"| Mode      | {', '.join(map(str, mode))} |\")\n",
    "    print(\"+-----------+--------+\")\n",
    "\n",
    "def main():\n",
    "    # Prompt the user to enter the file path\n",
    "    file_path = input(\"Enter the file path of the CSV file containing the student data: \")\n",
    "\n",
    "    # Read the CSV file into a Pandas DataFrame\n",
    "    try:\n",
    "        df = pd.read_csv(file_path)\n",
    "    except FileNotFoundError:\n",
    "        print(\"File not found. Please check the file path and try again.\")\n",
    "        return\n",
    "    except pd.errors.EmptyDataError:\n",
    "        print(\"The file is empty. Please provide a valid CSV file.\")\n",
    "        return\n",
    "\n",
    "    # Calculate mean, median, and mode\n",
    "    mean, median, mode = calculate_statistics(df)\n",
    "\n",
    "    # Display the results in a table\n",
    "    display_results(mean, median, mode)\n",
    "\n",
    "if __name__ == \"__main__\":\n",
    "    main()\n",
    "```\n",
    "\n",
    "Save this script in a file (e.g., `statistics_calculator.py`) and run it. Enter the file path of your CSV file when prompted. The program will then calculate and display the mean, median, and mode of the test scores in the specified format."
   ]
  }
 ],
 "metadata": {
  "kernelspec": {
   "display_name": "Python 3 (ipykernel)",
   "language": "python",
   "name": "python3"
  },
  "language_info": {
   "codemirror_mode": {
    "name": "ipython",
    "version": 3
   },
   "file_extension": ".py",
   "mimetype": "text/x-python",
   "name": "python",
   "nbconvert_exporter": "python",
   "pygments_lexer": "ipython3",
   "version": "3.10.8"
  }
 },
 "nbformat": 4,
 "nbformat_minor": 5
}
