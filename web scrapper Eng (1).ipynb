{
 "cells": [
  {
   "cell_type": "code",
   "execution_count": 1,
   "id": "811e8eff-3091-44fb-920f-7372cdc9333c",
   "metadata": {},
   "outputs": [],
   "source": [
    "import requests\n",
    "from bs4 import BeautifulSoup as bs\n",
    "from urllib.request import urlopen\n",
    "import logging"
   ]
  },
  {
   "cell_type": "code",
   "execution_count": 2,
   "id": "4238e01e-a479-4081-8cde-e1d71304671b",
   "metadata": {},
   "outputs": [],
   "source": [
    "flipcart_url = \"https://www.flipkart.com/search?q=\" + \"tv\""
   ]
  },
  {
   "cell_type": "code",
   "execution_count": 3,
   "id": "453b19d4-d454-483b-8e0b-cfd4ba2262c2",
   "metadata": {},
   "outputs": [
    {
     "data": {
      "text/plain": [
       "'https://www.flipkart.com/search?q=tv'"
      ]
     },
     "execution_count": 3,
     "metadata": {},
     "output_type": "execute_result"
    }
   ],
   "source": [
    "flipcart_url"
   ]
  },
  {
   "cell_type": "code",
   "execution_count": 4,
   "id": "cdeed42d-3b6d-47b1-980b-59ee8d715e05",
   "metadata": {},
   "outputs": [],
   "source": [
    "urlclient = requests.get(flipcart_url)"
   ]
  },
  {
   "cell_type": "code",
   "execution_count": 5,
   "id": "2e1c9fc0-1e8e-4e02-9dc7-a9d796fe3947",
   "metadata": {},
   "outputs": [],
   "source": [
    "flipcart_page = urlclient.content"
   ]
  },
  {
   "cell_type": "code",
   "execution_count": 6,
   "id": "7051e647-b8e1-4a97-a8d0-8f8b9975191f",
   "metadata": {},
   "outputs": [],
   "source": [
    "flipcart_html = bs(flipcart_page , 'html.parser')"
   ]
  },
  {
   "cell_type": "code",
   "execution_count": 7,
   "id": "941157fd-b672-49e1-a745-ec2c65a35881",
   "metadata": {},
   "outputs": [
    {
     "data": {
      "text/plain": [
       "'https://www.flipkart.com/dyanora-sigma-108-cm-43-inch-full-hd-led-smart-linux-tv-40-watt-box-speakers-bezel-less-design/p/itmcdbced04b2319?pid=TVSGHZAGFYKGZQ8K&lid=LSTTVSGHZAGFYKGZQ8KUAM8H1&marketplace=FLIPKART&q=tv&store=ckf%2Fczl&srno=s_1_1&otracker=search&otracker1=search&fm=organic&iid=en_xF8tH%2FD493QWU9p74CMkRhAnl%2FZDSt2g4RX8asyXf547oHm6aKW0Vwig1Ae%2FF%2BxpMab4jOA70lzjnpWCWaM8Dw%3D%3D&ppt=sp&ppn=sp&ssid=6vokrwan280000001676982936780&qH=c9a1fdac6e082dd8'"
      ]
     },
     "execution_count": 7,
     "metadata": {},
     "output_type": "execute_result"
    }
   ],
   "source": [
    "\"https://www.flipkart.com\"+\"/dyanora-sigma-108-cm-43-inch-full-hd-led-smart-linux-tv-40-watt-box-speakers-bezel-less-design/p/itmcdbced04b2319?pid=TVSGHZAGFYKGZQ8K&lid=LSTTVSGHZAGFYKGZQ8KUAM8H1&marketplace=FLIPKART&q=tv&store=ckf%2Fczl&srno=s_1_1&otracker=search&otracker1=search&fm=organic&iid=en_xF8tH%2FD493QWU9p74CMkRhAnl%2FZDSt2g4RX8asyXf547oHm6aKW0Vwig1Ae%2FF%2BxpMab4jOA70lzjnpWCWaM8Dw%3D%3D&ppt=sp&ppn=sp&ssid=6vokrwan280000001676982936780&qH=c9a1fdac6e082dd8\""
   ]
  },
  {
   "cell_type": "code",
   "execution_count": 8,
   "id": "4b979d12-4f74-4777-b5b3-c48d254a3f93",
   "metadata": {},
   "outputs": [],
   "source": [
    "bigbox = flipcart_html.find_all(\"div\" ,{\"class\":\"_1AtVbE col-12-12\"} )"
   ]
  },
  {
   "cell_type": "code",
   "execution_count": 9,
   "id": "1c696ac3-ad68-4ebe-a523-e5709d3601cc",
   "metadata": {},
   "outputs": [
    {
     "data": {
      "text/plain": [
       "30"
      ]
     },
     "execution_count": 9,
     "metadata": {},
     "output_type": "execute_result"
    }
   ],
   "source": [
    "len(bigbox)"
   ]
  },
  {
   "cell_type": "code",
   "execution_count": 10,
   "id": "814dac9a-ecab-41be-9ace-a765e893b886",
   "metadata": {},
   "outputs": [],
   "source": [
    "del bigbox[0:3]"
   ]
  },
  {
   "cell_type": "code",
   "execution_count": 11,
   "id": "cbf4c815-94f9-499e-a6e3-b84a8e07ea8a",
   "metadata": {},
   "outputs": [],
   "source": [
    "productlink = \"https://www.flipkart.com\" + bigbox[0].div.div.div.a['href']"
   ]
  },
  {
   "cell_type": "code",
   "execution_count": 12,
   "id": "317673bb-67f5-48e6-81a4-a9d6f77e10c8",
   "metadata": {},
   "outputs": [
    {
     "name": "stdout",
     "output_type": "stream",
     "text": [
      "https://www.flipkart.com/mi-series-80-cm-32-inch-hd-ready-led-smart-google-tv-2023-dolby-audio-dts-hd-vivid-picture-engine/p/itm14b45084b4ea1?pid=TVSGREPAZX8CN9QS&lid=LSTTVSGREPAZX8CN9QSFY3T6T&marketplace=FLIPKART&q=tv&store=ckf%2Fczl&srno=s_1_2&otracker=search&fm=organic&iid=en_C2iJRc4LbtyRbnX0LDvH4kdpmOTZDp-DsDrQEYL0IIO9ZLMkPGLnZVeOn6_YWZUGcG0BOYiH6CX8ZWcsLlByCA%3D%3D&ppt=None&ppn=None&ssid=sfuoghqvhc0000001699533366381&qH=c9a1fdac6e082dd8\n",
      "https://www.flipkart.com/samsung-80-cm-32-inch-hd-ready-led-smart-tizen-tv-2022-bezel-free-design/p/itmdfedd9527ff6a?pid=TVSGHY2UZA9YHWQN&lid=LSTTVSGHY2UZA9YHWQNCPAW6M&marketplace=FLIPKART&q=tv&store=ckf%2Fczl&spotlightTagId=FkPickId_ckf%2Fczl&srno=s_1_3&otracker=search&fm=organic&iid=5a03c1dd-fae3-4e57-93d3-d817f085818f.TVSGHY2UZA9YHWQN.SEARCH&ppt=None&ppn=None&ssid=sfuoghqvhc0000001699533366381&qH=c9a1fdac6e082dd8\n",
      "https://www.flipkart.com/iffalcon-tcl-u62-108-cm-43-inch-ultra-hd-4k-led-smart-google-tv-dolby-audio-hdr10/p/itmc55aef7e045d0?pid=TVSGGJTQPTRDFDGX&lid=LSTTVSGGJTQPTRDFDGXEORYEG&marketplace=FLIPKART&q=tv&store=ckf%2Fczl&srno=s_1_4&otracker=search&fm=organic&iid=5a03c1dd-fae3-4e57-93d3-d817f085818f.TVSGGJTQPTRDFDGX.SEARCH&ppt=None&ppn=None&ssid=sfuoghqvhc0000001699533366381&qH=c9a1fdac6e082dd8\n",
      "https://www.flipkart.com/iffalcon-tcl-79-97-cm-32-inch-hd-ready-led-smart-android-tv-google-assistant/p/itm7e2149460eea9?pid=TVSGKNZGHCZRNEDW&lid=LSTTVSGKNZGHCZRNEDWPKDF2X&marketplace=FLIPKART&q=tv&store=ckf%2Fczl&spotlightTagId=BestsellerId_ckf%2Fczl&srno=s_1_5&otracker=search&fm=organic&iid=5a03c1dd-fae3-4e57-93d3-d817f085818f.TVSGKNZGHCZRNEDW.SEARCH&ppt=None&ppn=None&ssid=sfuoghqvhc0000001699533366381&qH=c9a1fdac6e082dd8\n",
      "https://www.flipkart.com/iffalcon-tcl-u62-139-cm-55-inch-ultra-hd-4k-led-smart-google-tv-dolby-audio-hdr10/p/itm8fcc4e303437a?pid=TVSGGJTQPBRFGGZK&lid=LSTTVSGGJTQPBRFGGZKXB2HSI&marketplace=FLIPKART&q=tv&store=ckf%2Fczl&srno=s_1_6&otracker=search&fm=organic&iid=5a03c1dd-fae3-4e57-93d3-d817f085818f.TVSGGJTQPBRFGGZK.SEARCH&ppt=None&ppn=None&ssid=sfuoghqvhc0000001699533366381&qH=c9a1fdac6e082dd8\n",
      "https://www.flipkart.com/motorola-envisionx-140-cm-55-inch-qled-ultra-hd-4k-smart-google-tv-dolby-vision-atmos/p/itm3417c4600d9dc?pid=TVSGSRQ9SXPXPTXJ&lid=LSTTVSGSRQ9SXPXPTXJW7XESH&marketplace=FLIPKART&q=tv&store=ckf%2Fczl&srno=s_1_7&otracker=search&fm=organic&iid=5a03c1dd-fae3-4e57-93d3-d817f085818f.TVSGSRQ9SXPXPTXJ.SEARCH&ppt=None&ppn=None&ssid=sfuoghqvhc0000001699533366381&qH=c9a1fdac6e082dd8\n",
      "https://www.flipkart.com/motorola-envision-x-80-cm-32-inch-hd-ready-led-smart-google-tv/p/itmfdb91790c2979?pid=TVSGQGEMZGEYXR3V&lid=LSTTVSGQGEMZGEYXR3VH3QHGH&marketplace=FLIPKART&q=tv&store=ckf%2Fczl&srno=s_1_8&otracker=search&fm=organic&iid=en_C2iJRc4LbtyRbnX0LDvH4kdpmOTZDp-DsDrQEYL0IIOwYnEPybj10Kl4YMiIZL9tP_ZQbewVKASSPM-Uc26rIA%3D%3D&ppt=None&ppn=None&ssid=sfuoghqvhc0000001699533366381&qH=c9a1fdac6e082dd8\n",
      "https://www.flipkart.com/thomson-phoenix-108-cm-43-inch-qled-ultra-hd-4k-smart-google-tv-dolby-vision-atmos/p/itmaf61952339460?pid=TVSGSHZRWZPTZ47Z&lid=LSTTVSGSHZRWZPTZ47ZXMEUVE&marketplace=FLIPKART&q=tv&store=ckf%2Fczl&srno=s_1_9&otracker=search&fm=organic&iid=5a03c1dd-fae3-4e57-93d3-d817f085818f.TVSGSHZRWZPTZ47Z.SEARCH&ppt=None&ppn=None&ssid=sfuoghqvhc0000001699533366381&qH=c9a1fdac6e082dd8\n",
      "https://www.flipkart.com/mi-series-100-cm-40-inch-full-hd-led-smart-google-tv-2023-fhd-dolby-audio-dts-virtual-x-vivid-picture-engine/p/itm87bb354e357a2?pid=TVSGREPAWWQF4TD8&lid=LSTTVSGREPAWWQF4TD8TD4CFK&marketplace=FLIPKART&q=tv&store=ckf%2Fczl&srno=s_1_10&otracker=search&fm=organic&iid=5a03c1dd-fae3-4e57-93d3-d817f085818f.TVSGREPAWWQF4TD8.SEARCH&ppt=None&ppn=None&ssid=sfuoghqvhc0000001699533366381&qH=c9a1fdac6e082dd8\n",
      "https://www.flipkart.com/motorola-envisionx-109-cm-43-inch-full-hd-led-smart-google-tv-inbuilt-box-speakers/p/itmfecd96de5147a?pid=TVSGRFZNKSWQN6G8&lid=LSTTVSGRFZNKSWQN6G8OEOKIW&marketplace=FLIPKART&q=tv&store=ckf%2Fczl&srno=s_1_11&otracker=search&fm=organic&iid=en_C2iJRc4LbtyRbnX0LDvH4kdpmOTZDp-DsDrQEYL0IIOeC0H8y-utAa5eiVTjD3IpgXImdd44qHDf6p5m2gUcPQ%3D%3D&ppt=None&ppn=None&ssid=sfuoghqvhc0000001699533366381&qH=c9a1fdac6e082dd8\n",
      "https://www.flipkart.com/motorola-envisionx-165-cm-65-inch-qled-ultra-hd-4k-smart-google-tv-dolby-vision-atmos/p/itm05b7dca224ea0?pid=TVSGRTDDGYA4HPWU&lid=LSTTVSGRTDDGYA4HPWUZVEWYT&marketplace=FLIPKART&q=tv&store=ckf%2Fczl&srno=s_1_12&otracker=search&fm=organic&iid=en_C2iJRc4LbtyRbnX0LDvH4kdpmOTZDp-DsDrQEYL0IINYAu-WtYUNtfvTsMe8Gzh_GsR-mdxlNhZYN0vKtIECnw%3D%3D&ppt=None&ppn=None&ssid=sfuoghqvhc0000001699533366381&qH=c9a1fdac6e082dd8\n",
      "https://www.flipkart.com/mi-x-series-108-cm-43-inch-ultra-hd-4k-led-smart-google-tv-2023-4k-dolby-vision-hdr-10-audio-dts-dts-virtual-vivid-picture-engine/p/itm032baeed6ab26?pid=TVSGREPACR6KEVFG&lid=LSTTVSGREPACR6KEVFGMYWYNK&marketplace=FLIPKART&q=tv&store=ckf%2Fczl&srno=s_1_13&otracker=search&fm=organic&iid=5a03c1dd-fae3-4e57-93d3-d817f085818f.TVSGREPACR6KEVFG.SEARCH&ppt=None&ppn=None&ssid=sfuoghqvhc0000001699533366381&qH=c9a1fdac6e082dd8\n",
      "https://www.flipkart.com/thomson-alpha-80-cm-32-inch-hd-ready-led-smart-linux-tv-2022-30-w-sound-output-bezel-less-design/p/itm4e8f996ab1d6f?pid=TVSGEMQV7R4CMTGA&lid=LSTTVSGEMQV7R4CMTGAODWDFI&marketplace=FLIPKART&q=tv&store=ckf%2Fczl&srno=s_1_14&otracker=search&fm=organic&iid=5a03c1dd-fae3-4e57-93d3-d817f085818f.TVSGEMQV7R4CMTGA.SEARCH&ppt=None&ppn=None&ssid=sfuoghqvhc0000001699533366381&qH=c9a1fdac6e082dd8\n",
      "https://www.flipkart.com/thomson-r9-80-cm-32-inch-hd-ready-led-tv/p/itmfa047813e729e?pid=TVSF66GTBYHHZHAM&lid=LSTTVSF66GTBYHHZHAMQM1SEM&marketplace=FLIPKART&q=tv&store=ckf%2Fczl&srno=s_1_15&otracker=search&fm=organic&iid=5a03c1dd-fae3-4e57-93d3-d817f085818f.TVSF66GTBYHHZHAM.SEARCH&ppt=None&ppn=None&ssid=sfuoghqvhc0000001699533366381&qH=c9a1fdac6e082dd8\n",
      "https://www.flipkart.com/thomson-126-cm-50-inch-ultra-hd-4k-led-smart-google-tv-2023-dolby-vision-atmos/p/itm3dbeea2d0d9fd?pid=TVSGZF5QRHUFUHDK&lid=LSTTVSGZF5QRHUFUHDK1WMOUR&marketplace=FLIPKART&q=tv&store=ckf%2Fczl&srno=s_1_16&otracker=search&fm=organic&iid=5a03c1dd-fae3-4e57-93d3-d817f085818f.TVSGZF5QRHUFUHDK.SEARCH&ppt=None&ppn=None&ssid=sfuoghqvhc0000001699533366381&qH=c9a1fdac6e082dd8\n",
      "https://www.flipkart.com/marq-flipkart-60-cm-24-inch-hd-ready-led-tv/p/itm62b87f19d28a5?pid=TVSG6YMAAFGNQNSD&lid=LSTTVSG6YMAAFGNQNSDJIKT3J&marketplace=FLIPKART&q=tv&store=ckf%2Fczl&srno=s_1_17&otracker=search&fm=organic&iid=en_C2iJRc4LbtyRbnX0LDvH4kdpmOTZDp-DsDrQEYL0IINX1F5VxTDgguD0CTkKWVaUs5FU-etAXxJQMs-omO0t6w%3D%3D&ppt=None&ppn=None&ssid=sfuoghqvhc0000001699533366381&qH=c9a1fdac6e082dd8\n",
      "https://www.flipkart.com/motorola-envisionx-109-cm-43-inch-ultra-hd-4k-led-smart-google-tv-inbuilt-box-speakers/p/itme05024492f3ba?pid=TVSGRFZN4AXHVHFQ&lid=LSTTVSGRFZN4AXHVHFQTBZ78Q&marketplace=FLIPKART&q=tv&store=ckf%2Fczl&srno=s_1_18&otracker=search&fm=organic&iid=en_C2iJRc4LbtyRbnX0LDvH4kdpmOTZDp-DsDrQEYL0IIMHZNkhjX5I-rZ96waXM0pkotz7hkkg-m3mts50sFRKDg%3D%3D&ppt=None&ppn=None&ssid=sfuoghqvhc0000001699533366381&qH=c9a1fdac6e082dd8\n",
      "https://www.flipkart.com/beethosol-80-cm-32-inch-hd-ready-led-smart-android-based-tv/p/itm2e61725c23f91?pid=TVSGR83SQUKZSHJN&lid=LSTTVSGR83SQUKZSHJNLLZMHE&marketplace=FLIPKART&q=tv&store=ckf%2Fczl&srno=s_1_19&otracker=search&fm=organic&iid=5a03c1dd-fae3-4e57-93d3-d817f085818f.TVSGR83SQUKZSHJN.SEARCH&ppt=None&ppn=None&ssid=sfuoghqvhc0000001699533366381&qH=c9a1fdac6e082dd8\n",
      "https://www.flipkart.com/mi-x-series-125-cm-50-inch-ultra-hd-4k-led-smart-google-tv-2023-4k-dolby-vision-hdr-10-audio-dts-dts-virtual-vivid-picture-engine/p/itm900722d9c413b?pid=TVSGREPAGYTSGAGM&lid=LSTTVSGREPAGYTSGAGMCG8ACW&marketplace=FLIPKART&q=tv&store=ckf%2Fczl&srno=s_1_20&otracker=search&fm=organic&iid=5a03c1dd-fae3-4e57-93d3-d817f085818f.TVSGREPAGYTSGAGM.SEARCH&ppt=None&ppn=None&ssid=sfuoghqvhc0000001699533366381&qH=c9a1fdac6e082dd8\n",
      "https://www.flipkart.com/motorola-envisionx-127-cm-50-inch-ultra-hd-4k-led-smart-google-tv-inbuilt-box-speakers/p/itmaf9da6d489519?pid=TVSGRFZNVQNJG29Z&lid=LSTTVSGRFZNVQNJG29ZJGRS3W&marketplace=FLIPKART&q=tv&store=ckf%2Fczl&srno=s_1_21&otracker=search&fm=organic&iid=en_C2iJRc4LbtyRbnX0LDvH4kdpmOTZDp-DsDrQEYL0IIMQSLaeUPB9Vv8H9ProF7njEZLO6iOg_MWPZ42cfTFsEw%3D%3D&ppt=None&ppn=None&ssid=sfuoghqvhc0000001699533366381&qH=c9a1fdac6e082dd8\n",
      "https://www.flipkart.com/motorola-envisionx-140-cm-55-inch-ultra-hd-4k-led-smart-google-tv-inbuilt-box-speakers/p/itm844fc17f02731?pid=TVSGRFZNG6FY3D2S&lid=LSTTVSGRFZNG6FY3D2SWPWE8S&marketplace=FLIPKART&q=tv&store=ckf%2Fczl&srno=s_1_22&otracker=search&fm=organic&iid=en_C2iJRc4LbtyRbnX0LDvH4kdpmOTZDp-DsDrQEYL0IIOHk5iLvfxx5ADP2wWZrWKd9k4fNzMBhqifGeC_zQpuog%3D%3D&ppt=None&ppn=None&ssid=sfuoghqvhc0000001699533366381&qH=c9a1fdac6e082dd8\n",
      "https://www.flipkart.com/lg-80-cm-32-inch-hd-ready-led-smart-webos-tv/p/itmd091dbd255d6c?pid=TVSFTW4CSRW8PGDQ&lid=LSTTVSFTW4CSRW8PGDQ8KPXED&marketplace=FLIPKART&q=tv&store=ckf%2Fczl&srno=s_1_23&otracker=search&fm=organic&iid=5a03c1dd-fae3-4e57-93d3-d817f085818f.TVSFTW4CSRW8PGDQ.SEARCH&ppt=None&ppn=None&ssid=sfuoghqvhc0000001699533366381&qH=c9a1fdac6e082dd8\n",
      "https://www.flipkart.com/tcl-80-04-cm-32-inch-full-hd-led-smart-android-tv-2023-google-assistant/p/itme264bb1cbd511?pid=TVSGQ4YVPVYDFQVR&lid=LSTTVSGQ4YVPVYDFQVRHBPBP2&marketplace=FLIPKART&q=tv&store=ckf%2Fczl&srno=s_1_24&otracker=search&fm=organic&iid=5a03c1dd-fae3-4e57-93d3-d817f085818f.TVSGQ4YVPVYDFQVR.SEARCH&ppt=None&ppn=None&ssid=sfuoghqvhc0000001699533366381&qH=c9a1fdac6e082dd8\n"
     ]
    },
    {
     "ename": "AttributeError",
     "evalue": "'NoneType' object has no attribute 'a'",
     "output_type": "error",
     "traceback": [
      "\u001b[1;31m---------------------------------------------------------------------------\u001b[0m",
      "\u001b[1;31mAttributeError\u001b[0m                            Traceback (most recent call last)",
      "\u001b[1;32m~\\AppData\\Local\\Temp\\ipykernel_13492\\4167263243.py\u001b[0m in \u001b[0;36m<module>\u001b[1;34m\u001b[0m\n\u001b[0;32m      1\u001b[0m \u001b[1;32mfor\u001b[0m \u001b[0mi\u001b[0m \u001b[1;32min\u001b[0m \u001b[0mbigbox\u001b[0m\u001b[1;33m:\u001b[0m\u001b[1;33m\u001b[0m\u001b[1;33m\u001b[0m\u001b[0m\n\u001b[1;32m----> 2\u001b[1;33m     \u001b[0mprint\u001b[0m\u001b[1;33m(\u001b[0m\u001b[1;34m\"https://www.flipkart.com\"\u001b[0m \u001b[1;33m+\u001b[0m \u001b[0mi\u001b[0m\u001b[1;33m.\u001b[0m\u001b[0mdiv\u001b[0m\u001b[1;33m.\u001b[0m\u001b[0mdiv\u001b[0m\u001b[1;33m.\u001b[0m\u001b[0mdiv\u001b[0m\u001b[1;33m.\u001b[0m\u001b[0ma\u001b[0m\u001b[1;33m[\u001b[0m\u001b[1;34m'href'\u001b[0m\u001b[1;33m]\u001b[0m\u001b[1;33m)\u001b[0m\u001b[1;33m\u001b[0m\u001b[1;33m\u001b[0m\u001b[0m\n\u001b[0m\u001b[0;32m      3\u001b[0m \u001b[1;33m\u001b[0m\u001b[0m\n",
      "\u001b[1;31mAttributeError\u001b[0m: 'NoneType' object has no attribute 'a'"
     ]
    }
   ],
   "source": [
    "for i in bigbox:\n",
    "    print(\"https://www.flipkart.com\" + i.div.div.div.a['href'])\n",
    "    "
   ]
  },
  {
   "cell_type": "code",
   "execution_count": 14,
   "id": "121e467f-4b56-419d-a508-7b1056454983",
   "metadata": {},
   "outputs": [
    {
     "data": {
      "text/plain": [
       "'https://www.flipkart.com/mi-series-80-cm-32-inch-hd-ready-led-smart-google-tv-2023-dolby-audio-dts-hd-vivid-picture-engine/p/itm14b45084b4ea1?pid=TVSGREPAZX8CN9QS&lid=LSTTVSGREPAZX8CN9QSFY3T6T&marketplace=FLIPKART&q=tv&store=ckf%2Fczl&srno=s_1_2&otracker=search&fm=organic&iid=en_C2iJRc4LbtyRbnX0LDvH4kdpmOTZDp-DsDrQEYL0IIO9ZLMkPGLnZVeOn6_YWZUGcG0BOYiH6CX8ZWcsLlByCA%3D%3D&ppt=None&ppn=None&ssid=sfuoghqvhc0000001699533366381&qH=c9a1fdac6e082dd8'"
      ]
     },
     "execution_count": 14,
     "metadata": {},
     "output_type": "execute_result"
    }
   ],
   "source": [
    "productlink"
   ]
  },
  {
   "cell_type": "code",
   "execution_count": 15,
   "id": "a40d855a-a389-4f6f-abad-3e15ff7713e4",
   "metadata": {},
   "outputs": [],
   "source": [
    "procuct_req = requests.get(productlink)"
   ]
  },
  {
   "cell_type": "code",
   "execution_count": 16,
   "id": "ae33159d-186e-4f6f-b4cb-e1565f0186bf",
   "metadata": {},
   "outputs": [],
   "source": [
    "product_html = bs(procuct_req.text,'html.parser')"
   ]
  },
  {
   "cell_type": "code",
   "execution_count": 17,
   "id": "32d59cba-4388-4a3f-9baa-498efed56148",
   "metadata": {},
   "outputs": [],
   "source": [
    "coment_box = product_html.find_all(\"div\",{\"class\":\"_16PBlm\"})"
   ]
  },
  {
   "cell_type": "code",
   "execution_count": 18,
   "id": "424914bb-a86a-4f8b-862f-e6faf0ab1019",
   "metadata": {},
   "outputs": [
    {
     "data": {
      "text/plain": [
       "11"
      ]
     },
     "execution_count": 18,
     "metadata": {},
     "output_type": "execute_result"
    }
   ],
   "source": [
    "len(coment_box)"
   ]
  },
  {
   "cell_type": "code",
   "execution_count": 19,
   "id": "adfa3e5f-48c6-46f7-9f38-ac7b2675d949",
   "metadata": {},
   "outputs": [
    {
     "data": {
      "text/plain": [
       "'Kartikey tiwari'"
      ]
     },
     "execution_count": 19,
     "metadata": {},
     "output_type": "execute_result"
    }
   ],
   "source": [
    "coment_box[0].div.div.find_all(\"p\",{\"class\":\"_2sc7ZR _2V5EHH\"})[0].text"
   ]
  },
  {
   "cell_type": "code",
   "execution_count": 20,
   "id": "b8539076-6191-47f1-b3fa-527967bf304a",
   "metadata": {},
   "outputs": [
    {
     "name": "stdout",
     "output_type": "stream",
     "text": [
      "Kartikey tiwari\n",
      "Satyam Prakash\n",
      "Magesh B\n",
      "Ranjan  Kirtti\n",
      "shabab khan\n",
      "Jay Shrivastava\n",
      "JAGDISH  CHANDRA \n",
      "Naveen Reddy\n",
      "Krish\n",
      "Sonu Dixit\n"
     ]
    },
    {
     "ename": "AttributeError",
     "evalue": "'NoneType' object has no attribute 'div'",
     "output_type": "error",
     "traceback": [
      "\u001b[1;31m---------------------------------------------------------------------------\u001b[0m",
      "\u001b[1;31mAttributeError\u001b[0m                            Traceback (most recent call last)",
      "\u001b[1;32m~\\AppData\\Local\\Temp\\ipykernel_13492\\2821300294.py\u001b[0m in \u001b[0;36m<module>\u001b[1;34m\u001b[0m\n\u001b[0;32m      1\u001b[0m \u001b[1;32mfor\u001b[0m \u001b[0mi\u001b[0m \u001b[1;32min\u001b[0m \u001b[0mcoment_box\u001b[0m\u001b[1;33m:\u001b[0m\u001b[1;33m\u001b[0m\u001b[1;33m\u001b[0m\u001b[0m\n\u001b[1;32m----> 2\u001b[1;33m     \u001b[0mprint\u001b[0m\u001b[1;33m(\u001b[0m\u001b[0mi\u001b[0m\u001b[1;33m.\u001b[0m\u001b[0mdiv\u001b[0m\u001b[1;33m.\u001b[0m\u001b[0mdiv\u001b[0m\u001b[1;33m.\u001b[0m\u001b[0mfind_all\u001b[0m\u001b[1;33m(\u001b[0m\u001b[1;34m\"p\"\u001b[0m\u001b[1;33m,\u001b[0m\u001b[1;33m{\u001b[0m\u001b[1;34m\"class\"\u001b[0m\u001b[1;33m:\u001b[0m\u001b[1;34m\"_2sc7ZR _2V5EHH\"\u001b[0m\u001b[1;33m}\u001b[0m\u001b[1;33m)\u001b[0m\u001b[1;33m[\u001b[0m\u001b[1;36m0\u001b[0m\u001b[1;33m]\u001b[0m\u001b[1;33m.\u001b[0m\u001b[0mtext\u001b[0m\u001b[1;33m)\u001b[0m\u001b[1;33m\u001b[0m\u001b[1;33m\u001b[0m\u001b[0m\n\u001b[0m",
      "\u001b[1;31mAttributeError\u001b[0m: 'NoneType' object has no attribute 'div'"
     ]
    }
   ],
   "source": [
    "for i in coment_box:\n",
    "    print(i.div.div.find_all(\"p\",{\"class\":\"_2sc7ZR _2V5EHH\"})[0].text)"
   ]
  },
  {
   "cell_type": "code",
   "execution_count": 21,
   "id": "7d42338a-9d11-448a-866f-3d098090fee4",
   "metadata": {},
   "outputs": [
    {
     "name": "stdout",
     "output_type": "stream",
     "text": [
      "5\n",
      "5\n",
      "5\n",
      "5\n",
      "5\n",
      "5\n",
      "5\n",
      "4\n",
      "5\n",
      "5\n"
     ]
    },
    {
     "ename": "AttributeError",
     "evalue": "'NoneType' object has no attribute 'div'",
     "output_type": "error",
     "traceback": [
      "\u001b[1;31m---------------------------------------------------------------------------\u001b[0m",
      "\u001b[1;31mAttributeError\u001b[0m                            Traceback (most recent call last)",
      "\u001b[1;32m~\\AppData\\Local\\Temp\\ipykernel_13492\\100608338.py\u001b[0m in \u001b[0;36m<module>\u001b[1;34m\u001b[0m\n\u001b[0;32m      1\u001b[0m \u001b[1;32mfor\u001b[0m \u001b[0mi\u001b[0m \u001b[1;32min\u001b[0m \u001b[0mcoment_box\u001b[0m\u001b[1;33m:\u001b[0m\u001b[1;33m\u001b[0m\u001b[1;33m\u001b[0m\u001b[0m\n\u001b[1;32m----> 2\u001b[1;33m     \u001b[0mprint\u001b[0m\u001b[1;33m(\u001b[0m\u001b[0mi\u001b[0m\u001b[1;33m.\u001b[0m\u001b[0mdiv\u001b[0m\u001b[1;33m.\u001b[0m\u001b[0mdiv\u001b[0m\u001b[1;33m.\u001b[0m\u001b[0mdiv\u001b[0m\u001b[1;33m.\u001b[0m\u001b[0mdiv\u001b[0m\u001b[1;33m.\u001b[0m\u001b[0mtext\u001b[0m\u001b[1;33m)\u001b[0m\u001b[1;33m\u001b[0m\u001b[1;33m\u001b[0m\u001b[0m\n\u001b[0m",
      "\u001b[1;31mAttributeError\u001b[0m: 'NoneType' object has no attribute 'div'"
     ]
    }
   ],
   "source": [
    "for i in coment_box:\n",
    "    print(i.div.div.div.div.text)"
   ]
  },
  {
   "cell_type": "code",
   "execution_count": 22,
   "id": "d605e39b-1e78-410f-a81f-c398acd9a9ef",
   "metadata": {},
   "outputs": [
    {
     "data": {
      "text/plain": [
       "'Must buy!'"
      ]
     },
     "execution_count": 22,
     "metadata": {},
     "output_type": "execute_result"
    }
   ],
   "source": [
    "coment_box[0].div.div.div.p.text\n"
   ]
  },
  {
   "cell_type": "code",
   "execution_count": 23,
   "id": "97181efc-5bd5-4998-ab35-7512f82af7ae",
   "metadata": {},
   "outputs": [
    {
     "name": "stdout",
     "output_type": "stream",
     "text": [
      "Must buy!\n",
      "Worth every penny\n",
      "Must buy!\n",
      "Classy product\n",
      "Mind-blowing purchase\n",
      "Simply awesome\n",
      "Awesome\n",
      "Good quality product\n",
      "Simply awesome\n",
      "Fabulous!\n"
     ]
    },
    {
     "ename": "AttributeError",
     "evalue": "'NoneType' object has no attribute 'div'",
     "output_type": "error",
     "traceback": [
      "\u001b[1;31m---------------------------------------------------------------------------\u001b[0m",
      "\u001b[1;31mAttributeError\u001b[0m                            Traceback (most recent call last)",
      "\u001b[1;32m~\\AppData\\Local\\Temp\\ipykernel_13492\\3450836839.py\u001b[0m in \u001b[0;36m<module>\u001b[1;34m\u001b[0m\n\u001b[0;32m      1\u001b[0m \u001b[1;32mfor\u001b[0m \u001b[0mi\u001b[0m \u001b[1;32min\u001b[0m \u001b[0mcoment_box\u001b[0m\u001b[1;33m:\u001b[0m\u001b[1;33m\u001b[0m\u001b[1;33m\u001b[0m\u001b[0m\n\u001b[1;32m----> 2\u001b[1;33m     \u001b[0mprint\u001b[0m\u001b[1;33m(\u001b[0m\u001b[0mi\u001b[0m\u001b[1;33m.\u001b[0m\u001b[0mdiv\u001b[0m\u001b[1;33m.\u001b[0m\u001b[0mdiv\u001b[0m\u001b[1;33m.\u001b[0m\u001b[0mdiv\u001b[0m\u001b[1;33m.\u001b[0m\u001b[0mp\u001b[0m\u001b[1;33m.\u001b[0m\u001b[0mtext\u001b[0m \u001b[1;33m)\u001b[0m\u001b[1;33m\u001b[0m\u001b[1;33m\u001b[0m\u001b[0m\n\u001b[0m",
      "\u001b[1;31mAttributeError\u001b[0m: 'NoneType' object has no attribute 'div'"
     ]
    }
   ],
   "source": [
    "for i in coment_box:\n",
    "    print(i.div.div.div.p.text )"
   ]
  },
  {
   "cell_type": "code",
   "execution_count": 24,
   "id": "7e899af2-c04e-4c9e-952b-c319d77f84fc",
   "metadata": {},
   "outputs": [
    {
     "data": {
      "text/plain": [
       "'Awesome tvREAD MORE'"
      ]
     },
     "execution_count": 24,
     "metadata": {},
     "output_type": "execute_result"
    }
   ],
   "source": [
    "coment_box[0].div.div.find_all(\"div\",{\"class\":\"\"})[0].text\n"
   ]
  },
  {
   "cell_type": "code",
   "execution_count": 25,
   "id": "737a2b0d-4508-4f1d-922e-51c6297f0718",
   "metadata": {},
   "outputs": [
    {
     "name": "stdout",
     "output_type": "stream",
     "text": [
      "Awesome tvREAD MORE\n",
      "Best TV range........ money on valuation the great picture quality and sound quality more..📲🎶📺🎶🎧this is range in the best choice mi buying tv. also was nice Go For it....READ MORE\n",
      "excellent productREAD MORE\n",
      "It is best in this price segment, I was not expecting too much from this but it just perfect. Sound, display, connectivity all good.READ MORE\n",
      "First i have to thanks to Flipkart delivered soon  and mi 5A 32inc  tv is superb fantastic mind blowing picture hawsome and connectivity is so fast  very good service and thankq a lot .READ MORE\n",
      "Best features at unbelievable price, don't think about any other brand.. Just go for it. Received the product on scheduled date with same day installation.READ MORE\n",
      "Excellent product and excellent service 👍👍👍👍👍READ MORE\n",
      "TV good smart and in SD box little bit of pictures dim. we use HD box after good quality came. YouTube and hotstar super quality coming videosREAD MORE\n",
      "Awesome TV go for it......Lovely sound,video quality is also good and  my suggestion is go for hd set up box......Nice delivery and TV installed on the next day of the delivery...I'm happy with it...READ MORE\n",
      "this tv is best better connectivity best performanceREAD MORE\n"
     ]
    },
    {
     "ename": "AttributeError",
     "evalue": "'NoneType' object has no attribute 'div'",
     "output_type": "error",
     "traceback": [
      "\u001b[1;31m---------------------------------------------------------------------------\u001b[0m",
      "\u001b[1;31mAttributeError\u001b[0m                            Traceback (most recent call last)",
      "\u001b[1;32m~\\AppData\\Local\\Temp\\ipykernel_13492\\1040118254.py\u001b[0m in \u001b[0;36m<module>\u001b[1;34m\u001b[0m\n\u001b[0;32m      1\u001b[0m \u001b[1;32mfor\u001b[0m \u001b[0mi\u001b[0m \u001b[1;32min\u001b[0m \u001b[0mcoment_box\u001b[0m\u001b[1;33m:\u001b[0m\u001b[1;33m\u001b[0m\u001b[1;33m\u001b[0m\u001b[0m\n\u001b[1;32m----> 2\u001b[1;33m     \u001b[0mprint\u001b[0m\u001b[1;33m(\u001b[0m\u001b[0mi\u001b[0m\u001b[1;33m.\u001b[0m\u001b[0mdiv\u001b[0m\u001b[1;33m.\u001b[0m\u001b[0mdiv\u001b[0m\u001b[1;33m.\u001b[0m\u001b[0mfind_all\u001b[0m\u001b[1;33m(\u001b[0m\u001b[1;34m\"div\"\u001b[0m\u001b[1;33m,\u001b[0m\u001b[1;33m{\u001b[0m\u001b[1;34m\"class\"\u001b[0m\u001b[1;33m:\u001b[0m\u001b[1;34m\"\"\u001b[0m\u001b[1;33m}\u001b[0m\u001b[1;33m)\u001b[0m\u001b[1;33m[\u001b[0m\u001b[1;36m0\u001b[0m\u001b[1;33m]\u001b[0m\u001b[1;33m.\u001b[0m\u001b[0mtext\u001b[0m\u001b[1;33m)\u001b[0m\u001b[1;33m\u001b[0m\u001b[1;33m\u001b[0m\u001b[0m\n\u001b[0m",
      "\u001b[1;31mAttributeError\u001b[0m: 'NoneType' object has no attribute 'div'"
     ]
    }
   ],
   "source": [
    "for i in coment_box:\n",
    "    print(i.div.div.find_all(\"div\",{\"class\":\"\"})[0].text)"
   ]
  },
  {
   "cell_type": "code",
   "execution_count": null,
   "id": "920ea651-6489-4e32-8900-e3e4b3c05794",
   "metadata": {},
   "outputs": [],
   "source": []
  }
 ],
 "metadata": {
  "kernelspec": {
   "display_name": "Python 3 (ipykernel)",
   "language": "python",
   "name": "python3"
  },
  "language_info": {
   "codemirror_mode": {
    "name": "ipython",
    "version": 3
   },
   "file_extension": ".py",
   "mimetype": "text/x-python",
   "name": "python",
   "nbconvert_exporter": "python",
   "pygments_lexer": "ipython3",
   "version": "3.9.13"
  }
 },
 "nbformat": 4,
 "nbformat_minor": 5
}
