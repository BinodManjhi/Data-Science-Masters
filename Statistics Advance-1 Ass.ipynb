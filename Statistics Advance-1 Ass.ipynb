{
 "cells": [
  {
   "cell_type": "markdown",
   "id": "09d6a8ad-14d7-4a19-97ff-f61c6146f11a",
   "metadata": {},
   "source": [
    "**Q1. What is the Probability density function?**"
   ]
  },
  {
   "cell_type": "markdown",
   "id": "49f9b7b2-c769-4b2a-898b-dbe1cda84a13",
   "metadata": {},
   "source": [
    "The Probability Density Function (PDF) is a concept in probability theory and statistics. It describes the likelihood of a continuous random variable falling within a particular range of values. The PDF is often denoted by $f(x)$, where $x$ is the variable, and it satisfies the following conditions:\n",
    "\n",
    "1. The probability that $X$ takes any specific value is given by the area under the curve of the PDF at that point. In mathematical terms, this is expressed as:\n",
    "\n",
    "   $P(a \\leq X \\leq b) = \\int_{a}^{b} f(x) \\,dx $\n",
    "\n",
    "2. The total area under the curve of the PDF over its entire range is equal to 1. That is:\n",
    "\n",
    "   $\\int_{-\\infty}^{\\infty} f(x) \\,dx = 1 $\n",
    "\n",
    "The PDF is a fundamental concept in probability and statistics, especially in the context of continuous random variables. It helps us understand the likelihood of different outcomes and is often used in statistical analysis and hypothesis testing.\n",
    "\n",
    "In the context of the `scipy.stats` module you imported, you can use specific functions like `pdf` to obtain the PDF for different probability distributions. For example, if you have a normal distribution, you can use `stat.norm.pdf` to get the PDF of that distribution."
   ]
  },
  {
   "cell_type": "markdown",
   "id": "a147f384-622b-47a2-8ee8-e4b2e3f2d23e",
   "metadata": {},
   "source": [
    "**Q2. What are the types of Probability distribution?**"
   ]
  },
  {
   "cell_type": "markdown",
   "id": "ee887fd6-1b50-4ea3-a70f-c54366aa3774",
   "metadata": {},
   "source": [
    "Probability distributions describe how the probabilities of different outcomes are spread. There are two main types of probability distributions: discrete and continuous.\n",
    "\n",
    "1. **Discrete Probability Distributions:**\n",
    "   - **Discrete Uniform Distribution:** Each outcome has an equal probability of occurring. Examples include rolling a fair die or choosing a card from a standard deck.\n",
    "   - **Bernoulli Distribution:** Models two possible outcomes (usually success or failure) with probabilities \\(p\\) and \\(1-p\\), where \\(p\\) is the probability of success.\n",
    "   - **Binomial Distribution:** Represents the number of successes in a fixed number of independent Bernoulli trials.\n",
    "   - **Poisson Distribution:** Models the number of events that occur within a fixed interval of time or space, given the average rate of occurrence.\n",
    "\n",
    "2. **Continuous Probability Distributions:**\n",
    "   - **Continuous Uniform Distribution:** Describes a continuous random variable with equal probability of falling within a specified range.\n",
    "   - **Normal (Gaussian) Distribution:** Characterized by a bell-shaped curve. Many natural phenomena follow this distribution.\n",
    "   - **Exponential Distribution:** Models the time until an event occurs in a Poisson process.\n",
    "   - **Gamma Distribution:** Generalizes the exponential distribution to account for varying rates of occurrence.\n",
    "   - **Beta Distribution:** Represents the distribution of probabilities for a random variable limited to the interval [0, 1].\n",
    "   - **Cauchy Distribution:** Has heavy tails and no defined mean or variance.\n",
    "\n",
    "3. **Multinomial Distribution:** Describes the probability of observing counts among multiple categories.\n",
    "\n",
    "4. **Hypergeometric Distribution:** Models the probability of drawing a specific number of successes from a finite population without replacement.\n",
    "\n",
    "5. **Student's t-Distribution:** Widely used for hypothesis testing when the sample size is small and the population variance is unknown.\n",
    "\n",
    "These are just a few examples, and there are many other probability distributions that serve various purposes in statistics and probability theory. The choice of distribution depends on the characteristics of the data being modeled or analyzed."
   ]
  },
  {
   "cell_type": "markdown",
   "id": "2616bb7d-f1e9-4806-bc5c-eeece1c6c7df",
   "metadata": {},
   "source": [
    "**Q3. Write a Python function to calculate the probability density function of a normal distribution with\n",
    "given mean and standard deviation at a given point.**"
   ]
  },
  {
   "cell_type": "markdown",
   "id": "2664144b-50b7-4875-9075-ae174d6998b2",
   "metadata": {},
   "source": [
    "Certainly! In Python, you can use the `scipy.stats.norm` module to work with the normal distribution. Here's a simple function that calculates the probability density function (PDF) of a normal distribution at a given point:\n",
    "\n",
    "```python\n",
    "import scipy.stats as stats\n",
    "\n",
    "def normal_pdf(x, mean, std_dev):\n",
    "    \"\"\"\n",
    "    Calculate the probability density function (PDF) of a normal distribution\n",
    "    at a given point x.\n",
    "\n",
    "    Parameters:\n",
    "    - x: The point at which to evaluate the PDF.\n",
    "    - mean: The mean of the normal distribution.\n",
    "    - std_dev: The standard deviation of the normal distribution.\n",
    "\n",
    "    Returns:\n",
    "    - pdf_value: The PDF value at the given point x.\n",
    "    \"\"\"\n",
    "    pdf_value = stats.norm.pdf(x, loc=mean, scale=std_dev)\n",
    "    return pdf_value\n",
    "\n",
    "# Example usage:\n",
    "mean = 0\n",
    "std_dev = 1\n",
    "point = 1.5\n",
    "\n",
    "pdf_at_point = normal_pdf(point, mean, std_dev)\n",
    "print(f\"PDF at x={point}: {pdf_at_point}\")\n",
    "```\n",
    "\n",
    "In this example, `mean` is the mean of the normal distribution, `std_dev` is the standard deviation, and `point` is the specific point at which you want to calculate the PDF. The `stats.norm.pdf` function is used to compute the PDF at the given point.\n",
    "\n",
    "Make sure to have the required libraries installed. You can install them using:\n",
    "\n",
    "```bash\n",
    "pip install scipy\n",
    "```\n",
    "\n",
    "Feel free to modify the function according to your specific needs or use it as a reference for working with other probability distributions."
   ]
  },
  {
   "cell_type": "markdown",
   "id": "1b15a43f-16d8-49b9-b573-bd463fb4dbb9",
   "metadata": {},
   "source": [
    "**Q4. What are the properties of Binomial distribution? Give two examples of events where binomial\n",
    "distribution can be applied.**"
   ]
  },
  {
   "cell_type": "markdown",
   "id": "01d47c2f-595a-4810-8a5c-cd87d84bc4c8",
   "metadata": {},
   "source": [
    "The binomial distribution is a discrete probability distribution that describes the number of successes in a fixed number of independent Bernoulli trials, where each trial has only two possible outcomes: success or failure. The properties of the binomial distribution include:\n",
    "\n",
    "1. **Fixed Number of Trials (n):** The number of trials or experiments is fixed in advance.\n",
    "\n",
    "2. **Independent Trials:** Each trial is independent of others, meaning the outcome of one trial does not affect the outcome of another.\n",
    "\n",
    "3. **Constant Probability of Success (p):** The probability of success (denoted as p) remains constant across all trials.\n",
    "\n",
    "4. **Two Possible Outcomes:** Each trial has only two possible outcomes: success (usually denoted as 1) or failure (usually denoted as 0).\n",
    "\n",
    "5. **Discreteness:** The random variable representing the number of successes is discrete, meaning it takes on distinct, separate values.\n",
    "\n",
    "6. **Probability Mass Function (PMF):** The probability mass function for the binomial distribution is given by the formula P(X = k) = C(n, k) * p^k * (1 - p)^(n - k), where X is the number of successes, k is the specific number of successes, n is the number of trials, p is the probability of success, and C(n, k) is the binomial coefficient.\n",
    "\n",
    "Two examples of events where the binomial distribution can be applied are:\n",
    "\n",
    "1. **Coin Flips:** Consider a fair coin being flipped 10 times. Each flip is independent, and the probability of getting a head (success) is 0.5. The binomial distribution can be used to calculate the probability of getting a specific number of heads in these 10 coin flips.\n",
    "\n",
    "2. **Manufacturing Defects:** In a manufacturing process, a certain percentage of items may be defective due to random variations. If the probability of a product being defective is known, and each product is produced independently, the binomial distribution can be used to model the number of defective items in a sample of a fixed size."
   ]
  },
  {
   "cell_type": "markdown",
   "id": "213b6abe-6f38-41ec-b4ff-5baf8b3b31b3",
   "metadata": {},
   "source": [
    "**Q5. Generate a random sample of size 1000 from a binomial distribution with probability of success 0.4\n",
    "and plot a histogram of the results using matplotlib.**"
   ]
  },
  {
   "cell_type": "markdown",
   "id": "54806086-c4f4-41bf-a88c-881f25f35be0",
   "metadata": {},
   "source": [
    "Certainly! Below is an example of how you can generate a random sample of size 1000 from a binomial distribution with a probability of success of 0.4 and plot a histogram using matplotlib in Python:\n",
    "\n",
    "```python\n",
    "import matplotlib.pyplot as plt\n",
    "import numpy as np\n",
    "\n",
    "# Set the parameters\n",
    "n = 1000  # size of the sample\n",
    "p = 0.4   # probability of success\n",
    "\n",
    "# Generate a random sample from a binomial distribution\n",
    "random_sample = np.random.binomial(1, p, n)\n",
    "\n",
    "# Plot a histogram\n",
    "plt.hist(random_sample, bins=[-0.5, 0.5, 1.5], edgecolor='black')  # bins for discrete values 0 and 1\n",
    "plt.title('Binomial Distribution - Random Sample')\n",
    "plt.xlabel('Outcome')\n",
    "plt.ylabel('Frequency')\n",
    "plt.xticks([0, 1], ['Failure', 'Success'])\n",
    "plt.show()\n",
    "```\n",
    "\n",
    "In this code:\n",
    "\n",
    "- `np.random.binomial(1, p, n)` generates a random sample of size `n` from a binomial distribution with 1 trial (since we are interested in success/failure) and a probability of success `p`.\n",
    "\n",
    "- `plt.hist()` is used to create a histogram. The `bins` parameter is set to [-0.5, 0.5, 1.5] to account for the discrete values 0 and 1. The `xticks` parameter is used to label the x-axis with 'Failure' and 'Success' instead of 0 and 1.\n",
    "\n",
    "- Finally, `plt.show()` displays the histogram.\n",
    "\n",
    "You can run this code in a Python environment that has matplotlib and numpy installed to visualize the histogram of the binomial distribution."
   ]
  },
  {
   "cell_type": "markdown",
   "id": "b2d0b5d6-14e5-491b-b248-a0162c15df27",
   "metadata": {},
   "source": [
    "**Q6. Write a Python function to calculate the cumulative distribution function of a Poisson distribution\n",
    "with given mean at a given point.**"
   ]
  },
  {
   "cell_type": "markdown",
   "id": "c3b791b0-64f9-45bb-8c79-22de4d9bec64",
   "metadata": {},
   "source": [
    "Certainly! In Python, you can use the `scipy.stats.poisson` module to work with the Poisson distribution. Here's a simple function that calculates the cumulative distribution function (CDF) of a Poisson distribution at a given point:\n",
    "\n",
    "```python\n",
    "import scipy.stats as stats\n",
    "\n",
    "def poisson_cdf(k, mean):\n",
    "    \"\"\"\n",
    "    Calculate the cumulative distribution function (CDF) of a Poisson distribution\n",
    "    at a given point k.\n",
    "\n",
    "    Parameters:\n",
    "    - k: The point at which to evaluate the CDF.\n",
    "    - mean: The mean of the Poisson distribution.\n",
    "\n",
    "    Returns:\n",
    "    - cdf_value: The CDF value at the given point k.\n",
    "    \"\"\"\n",
    "    cdf_value = stats.poisson.cdf(k, mu=mean)\n",
    "    return cdf_value\n",
    "\n",
    "# Example usage:\n",
    "mean = 3\n",
    "point = 2\n",
    "\n",
    "cdf_at_point = poisson_cdf(point, mean)\n",
    "print(f\"CDF at k={point}: {cdf_at_point}\")\n",
    "```\n",
    "\n",
    "In this example, `mean` is the mean of the Poisson distribution, `point` is the specific point at which you want to calculate the CDF, and `stats.poisson.cdf` is used to compute the CDF at the given point.\n",
    "\n",
    "Make sure to have the required libraries installed. You can install them using:\n",
    "\n",
    "```bash\n",
    "pip install scipy\n",
    "```\n",
    "\n",
    "Feel free to modify the function according to your specific needs or use it as a reference for working with other probability distributions."
   ]
  },
  {
   "cell_type": "markdown",
   "id": "420227a3-7ce3-4b50-882e-2f96416b5b7a",
   "metadata": {},
   "source": [
    "**Q7. How Binomial distribution different from Poisson distribution?**"
   ]
  },
  {
   "cell_type": "markdown",
   "id": "8e9636ef-f3bf-48aa-a1c2-846364cbd9e8",
   "metadata": {},
   "source": [
    "The Binomial distribution and the Poisson distribution are both discrete probability distributions, but they have key differences in terms of their underlying assumptions and use cases.\n",
    "\n",
    "**1. Number of Trials:**\n",
    "   - **Binomial Distribution:** The Binomial distribution describes the number of successes in a fixed number of independent trials, where each trial has only two possible outcomes (success or failure).\n",
    "   - **Poisson Distribution:** The Poisson distribution models the number of events that occur within a fixed interval of time or space, but the number of trials is not fixed as in the Binomial distribution.\n",
    "\n",
    "**2. Nature of Outcomes:**\n",
    "   - **Binomial Distribution:** Each trial in the Binomial distribution is binary, resulting in either success or failure.\n",
    "   - **Poisson Distribution:** The Poisson distribution deals with the count of events in a continuous or infinite space, and the outcomes are counts of events occurring within a specified interval.\n",
    "\n",
    "**3. Independence of Trials:**\n",
    "   - **Binomial Distribution:** The trials in the Binomial distribution are assumed to be independent, meaning the outcome of one trial does not affect the outcome of another.\n",
    "   - **Poisson Distribution:** The events in the Poisson distribution are assumed to occur independently, but the focus is on the number of events within a fixed interval.\n",
    "\n",
    "**4. Parameters:**\n",
    "   - **Binomial Distribution:** It is characterized by two parameters - the number of trials (\\(n\\)) and the probability of success in a single trial (\\(p\\)).\n",
    "   - **Poisson Distribution:** It is characterized by a single parameter - the average rate of event occurrence (\\(\\lambda\\)).\n",
    "\n",
    "**5. Conditions:**\n",
    "   - **Binomial Distribution:** Applicable when there is a fixed number of trials and each trial has two possible outcomes.\n",
    "   - **Poisson Distribution:** Applicable when events are rare, widely spaced, and occur independently.\n",
    "\n",
    "**6. Example Applications:**\n",
    "   - **Binomial Distribution:** Suitable for situations like coin flipping, where you have a fixed number of trials with only two possible outcomes.\n",
    "   - **Poisson Distribution:** Suitable for scenarios such as the number of phone calls received at a call center in a given hour, where events occur independently over time.\n",
    "\n",
    "In summary, while both distributions deal with discrete random variables, the Binomial distribution is used when there is a fixed number of trials with binary outcomes, whereas the Poisson distribution is used to model the number of rare events in a continuous or infinite space over a fixed interval."
   ]
  },
  {
   "cell_type": "markdown",
   "id": "c6584d21-c2b0-423a-987f-6ae9b46cb241",
   "metadata": {},
   "source": [
    "**Q8. Generate a random sample of size 1000 from a Poisson distribution with mean 5 and calculate the\n",
    "sample mean and variance.**"
   ]
  },
  {
   "cell_type": "markdown",
   "id": "0d0bcc95-dfca-464c-a0eb-9b5be5eaca34",
   "metadata": {},
   "source": [
    "To generate a random sample from a Poisson distribution in Python and calculate the sample mean and variance, you can use the `numpy` library. Here's an example code snippet:\n",
    "\n",
    "```python\n",
    "import numpy as np\n",
    "\n",
    "# Set the parameters\n",
    "mean_value = 5\n",
    "sample_size = 1000\n",
    "\n",
    "# Generate a random sample from a Poisson distribution\n",
    "poisson_sample = np.random.poisson(mean_value, size=sample_size)\n",
    "\n",
    "# Calculate the sample mean and variance\n",
    "sample_mean = np.mean(poisson_sample)\n",
    "sample_variance = np.var(poisson_sample)\n",
    "\n",
    "# Print the results\n",
    "print(f\"Sample Mean: {sample_mean}\")\n",
    "print(f\"Sample Variance: {sample_variance}\")\n",
    "```\n",
    "\n",
    "In this code:\n",
    "\n",
    "- We use `numpy` to generate a random sample from a Poisson distribution using `np.random.poisson`.\n",
    "- The `size` parameter is set to the desired sample size (in this case, 1000).\n",
    "- We then calculate the sample mean and variance using `np.mean` and `np.var` functions.\n",
    "\n",
    "Make sure to have the `numpy` library installed. You can install it using:\n",
    "\n",
    "```bash\n",
    "pip install numpy\n",
    "```\n",
    "\n",
    "You can adjust the `mean_value` and `sample_size` variables to match your specific requirements. The sample mean and variance are calculated based on the generated random sample from the Poisson distribution."
   ]
  },
  {
   "cell_type": "markdown",
   "id": "ddddfb4f-042d-4901-8491-62e1c5311ed8",
   "metadata": {},
   "source": [
    "**Q9. How mean and variance are related in Binomial distribution and Poisson distribution?**"
   ]
  },
  {
   "cell_type": "markdown",
   "id": "c99c6ffc-704b-43c9-8bf2-795f2b5b031c",
   "metadata": {},
   "source": [
    "In both the Binomial distribution and the Poisson distribution, the mean (expected value) and variance are related, but the specific relationships differ due to the nature of the distributions.\n",
    "\n",
    "### Binomial Distribution:\n",
    "\n",
    "For a Binomial distribution with parameters $n$ (number of trials) and $p$ (probability of success in a single trial), the mean $(\\mu)$ and variance $(\\sigma^2)$ are related as follows:\n",
    "\n",
    "$\\mu = np $\n",
    "\n",
    "$\\sigma^2 = np(1-p) $\n",
    "\n",
    "### Poisson Distribution:\n",
    "\n",
    "For a Poisson distribution with parameter $\\lambda$ (average rate of event occurrence), both the mean $(\\mu)$ and variance $(\\sigma^2)$ are equal and given by:\n",
    "\n",
    "$ \\mu = \\sigma^2 = \\lambda $\n",
    "\n",
    "In summary:\n",
    "\n",
    "- In the Binomial distribution, the variance is influenced by both the number of trials $(n)$ and the probability of success $(p)$.\n",
    "- In the Poisson distribution, the variance is solely determined by the average rate of event occurrence $(\\lambda)$.\n",
    "\n",
    "It's interesting to note that as the number of trials $(n)$ increases in the Binomial distribution while keeping the probability of success per trial $(p)$ constant, the shape of the distribution approaches that of a Poisson distribution with $(\\lambda = np)$. This is known as the Poisson approximation to the Binomial distribution.\n",
    "\n",
    "In practical terms, the relationship between mean and variance provides insights into the spread or variability of the distribution. A larger variance indicates greater variability in the outcomes."
   ]
  },
  {
   "cell_type": "markdown",
   "id": "9cd67bdb-87b3-4a2c-9560-c5ec1d126891",
   "metadata": {},
   "source": [
    "**Q10. In normal distribution with respect to mean position, where does the least frequent data appear?**"
   ]
  },
  {
   "cell_type": "markdown",
   "id": "f02ee60b-8720-4eb8-95b5-1d35776d29fa",
   "metadata": {},
   "source": [
    "In a normal distribution, also known as a Gaussian distribution or bell curve, the data is symmetrically distributed around the mean. The mean is the central point of the distribution, and the distribution is characterized by its bell-shaped curve.\n",
    "\n",
    "In a normal distribution:\n",
    "\n",
    "1. The mean $(\\mu)$ is the center of the distribution.\n",
    "2. The highest point on the curve corresponds to the mean.\n",
    "3. The data is symmetrically distributed on both sides of the mean.\n",
    "\n",
    "The least frequent data appears in the tails of the distribution, farthest away from the mean. As you move away from the mean in either direction along the x-axis, the frequency of data points decreases. The tails of the distribution represent the extreme values, and these are less likely to occur compared to values closer to the mean.\n",
    "\n",
    "In summary, the least frequent data in a normal distribution appears in the tails, which are the regions farthest away from the mean. The most frequent data is found near the mean in the central part of the distribution."
   ]
  }
 ],
 "metadata": {
  "kernelspec": {
   "display_name": "Python 3 (ipykernel)",
   "language": "python",
   "name": "python3"
  },
  "language_info": {
   "codemirror_mode": {
    "name": "ipython",
    "version": 3
   },
   "file_extension": ".py",
   "mimetype": "text/x-python",
   "name": "python",
   "nbconvert_exporter": "python",
   "pygments_lexer": "ipython3",
   "version": "3.10.8"
  }
 },
 "nbformat": 4,
 "nbformat_minor": 5
}
