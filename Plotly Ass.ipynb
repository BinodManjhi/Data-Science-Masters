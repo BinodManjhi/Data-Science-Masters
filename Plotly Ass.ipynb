{
 "cells": [
  {
   "cell_type": "markdown",
   "id": "0d29f659-b66a-4af0-bf90-8db800e3951f",
   "metadata": {},
   "source": [
    "**Q1. Load the \"titanic\" dataset using the load_dataset function of seaborn. Use Plotly express to plot a\n",
    "scatter plot for age and fare columns in the titanic dataset.**"
   ]
  },
  {
   "cell_type": "markdown",
   "id": "a61ec6ff-312c-43b0-a698-f1acee59b4dc",
   "metadata": {},
   "source": [
    "As of my last knowledge update in January 2022, Seaborn's `load_dataset` function doesn't directly load the Titanic dataset. Instead, it's often loaded using other libraries like Pandas or directly from an online source.\n",
    "\n",
    "Assuming you have the Titanic dataset in a Pandas DataFrame, you can use Plotly Express to create a scatter plot for the \"age\" and \"fare\" columns. Here's an example:\n",
    "\n",
    "```python\n",
    "import seaborn as sns\n",
    "import plotly.express as px\n",
    "\n",
    "# Load Titanic dataset using seaborn\n",
    "titanic_df = sns.load_dataset(\"titanic\")\n",
    "\n",
    "# Create scatter plot using Plotly Express\n",
    "fig = px.scatter(titanic_df, x=\"age\", y=\"fare\", title=\"Scatter Plot of Age vs Fare in Titanic Dataset\")\n",
    "\n",
    "# Show the plot\n",
    "fig.show()\n",
    "```\n",
    "\n",
    "Make sure you have both Seaborn and Plotly installed in your environment:\n",
    "\n",
    "```bash\n",
    "pip install seaborn plotly\n",
    "```\n",
    "\n",
    "Please check the version of Seaborn and Plotly to ensure compatibility with the code above. If there have been updates or changes to the libraries since my last update, you may need to refer to the latest documentation for any modifications."
   ]
  },
  {
   "cell_type": "markdown",
   "id": "f2e37eaf-52ec-4026-8f1f-57639683beff",
   "metadata": {},
   "source": [
    "**Q2. Using the tips dataset in the Plotly library, plot a box plot using Plotly express.**"
   ]
  },
  {
   "cell_type": "markdown",
   "id": "0ac1cca8-8f58-457d-9366-9aed070690aa",
   "metadata": {},
   "source": [
    "Sure, if you want to use Seaborn to load the \"tips\" dataset and then create a box plot using Plotly Express, you can follow the code below:\n",
    "\n",
    "```python\n",
    "import seaborn as sns\n",
    "import plotly.express as px\n",
    "\n",
    "# Load tips dataset using seaborn\n",
    "tips_df = sns.load_dataset(\"tips\")\n",
    "\n",
    "# Create a box plot for total_bill and day columns using Plotly Express\n",
    "fig = px.box(tips_df, x=\"day\", y=\"total_bill\", title=\"Box Plot of Total Bill by Day\")\n",
    "\n",
    "# Show the plot\n",
    "fig.show()\n",
    "```\n",
    "\n",
    "In this example, the Seaborn `load_dataset` function is used to load the \"tips\" dataset. Then, the `px.box()` function from Plotly Express is employed to create a box plot of the \"total_bill\" column grouped by the \"day\" column.\n",
    "\n",
    "Make sure you have both Seaborn and Plotly installed:\n",
    "\n",
    "```bash\n",
    "pip install seaborn plotly\n",
    "```\n",
    "\n",
    "Feel free to modify the column names or customize the plot according to your specific requirements."
   ]
  },
  {
   "cell_type": "markdown",
   "id": "0ad92095-2fe5-4ee0-b250-2c879af5ae4a",
   "metadata": {},
   "source": [
    "**Q3. Using the tips dataset in the Plotly library, Plot a histogram for x= \"sex\" and y=\"total_bill\" column in\n",
    "the tips dataset. Also, use the \"smoker\" column with the pattern_shape parameter and the \"day\"\n",
    "column with the color parameter.**"
   ]
  },
  {
   "cell_type": "markdown",
   "id": "e5863ba3-845a-4bee-95c9-0b6d9fe51dd3",
   "metadata": {},
   "source": [
    "Certainly! Here's an example code to load the \"tips\" dataset using Seaborn's `load_dataset` function and then create a histogram using Plotly Express with the specified parameters:\n",
    "\n",
    "```python\n",
    "import seaborn as sns\n",
    "import plotly.express as px\n",
    "\n",
    "# Load tips dataset using seaborn\n",
    "tips_df = sns.load_dataset(\"tips\")\n",
    "\n",
    "# Create a histogram for x=\"sex\" and y=\"total_bill\" with additional parameters\n",
    "fig = px.histogram(\n",
    "    tips_df,\n",
    "    x=\"sex\",\n",
    "    y=\"total_bill\",\n",
    "    color=\"day\",\n",
    "    pattern_shape=\"smoker\",\n",
    "    title=\"Histogram of Total Bill by Sex with Day and Smoker Patterns\"\n",
    ")\n",
    "\n",
    "# Show the plot\n",
    "fig.show()\n",
    "```\n",
    "\n",
    "In this example:\n",
    "- \"sex\" is represented on the x-axis.\n",
    "- \"total_bill\" is represented on the y-axis.\n",
    "- The \"day\" column is represented using different colors.\n",
    "- The \"smoker\" column is represented using different patterns.\n",
    "\n",
    "Make sure you have both Seaborn and Plotly installed:\n",
    "\n",
    "```bash\n",
    "pip install seaborn plotly\n",
    "```\n",
    "\n",
    "Feel free to customize the code further based on your specific requirements or explore additional parameters provided by Plotly Express for further customization."
   ]
  },
  {
   "cell_type": "markdown",
   "id": "899ceff3-eaa1-43ec-a27d-c58e9fc8b84f",
   "metadata": {},
   "source": [
    "**Q4. Using the iris dataset in the Plotly library, Plot a scatter matrix plot, using the \"species\" column for\n",
    "the color parameter.** \n",
    "\n",
    "Note: Use \"sepal_length\", \"sepal_width\", \"petal_length\", \"petal_width\" columns only with the\n",
    "dimensions parameter."
   ]
  },
  {
   "cell_type": "markdown",
   "id": "29b6b9df-c97c-4731-b115-90633d5fcb32",
   "metadata": {},
   "source": [
    "It seems like there might be a confusion in your question. You mentioned loading the \"tips\" dataset using Seaborn and then plotting a scatter matrix plot with the iris dataset in Plotly. I assume you want to use the iris dataset for the scatter matrix plot. Here's the corrected code:\n",
    "\n",
    "```python\n",
    "import seaborn as sns\n",
    "import plotly.express as px\n",
    "\n",
    "# Load iris dataset using seaborn\n",
    "iris_df = sns.load_dataset(\"iris\")\n",
    "\n",
    "# Create a scatter matrix plot with color based on the \"species\" column\n",
    "fig = px.scatter_matrix(\n",
    "    iris_df,\n",
    "    dimensions=[\"sepal_length\", \"sepal_width\", \"petal_length\", \"petal_width\"],\n",
    "    color=\"species\",\n",
    "    title=\"Scatter Matrix Plot of Iris Dataset with Species Color\"\n",
    ")\n",
    "\n",
    "# Show the plot\n",
    "fig.show()\n",
    "```\n",
    "\n",
    "In this example, the iris dataset is loaded using Seaborn's `load_dataset` function, and then a scatter matrix plot is created using Plotly Express. The points in the scatter matrix are colored based on the \"species\" column.\n",
    "\n",
    "Make sure you have Seaborn and Plotly installed:\n",
    "\n",
    "```bash\n",
    "pip install seaborn plotly\n",
    "```\n",
    "\n",
    "Feel free to adjust the column names or customize the plot according to your specific requirements."
   ]
  },
  {
   "cell_type": "markdown",
   "id": "6f984085-e864-488a-a52e-7fbc38f29854",
   "metadata": {},
   "source": [
    "**Q5. What is Distplot? Using Plotly express, plot a distplot.**"
   ]
  },
  {
   "cell_type": "markdown",
   "id": "7090bb4c-0682-46ba-9a09-3d85bc6ad57f",
   "metadata": {},
   "source": [
    "A `distplot` (distribution plot) is a type of plot that displays the distribution of a univariate set of observations. It combines elements of a histogram and a kernel density estimate, providing a visual representation of the underlying probability distribution of a continuous variable.\n",
    "\n",
    "In Plotly Express, you can use the `px.histogram` function to create a distplot. Here's an example:\n",
    "\n",
    "```python\n",
    "import plotly.express as px\n",
    "\n",
    "# Create a sample dataset\n",
    "data = [1, 2, 2, 3, 3, 3, 4, 4, 4, 4, 5, 5, 5, 5, 5]\n",
    "\n",
    "# Create a distplot using Plotly Express\n",
    "fig = px.histogram(data, nbins=5, title=\"Distplot Example\")\n",
    "\n",
    "# Show the plot\n",
    "fig.show()\n",
    "```\n",
    "\n",
    "In this example, `data` represents a univariate set of observations, and `px.histogram` is used to create a distplot with a specified number of bins (`nbins`). You can adjust the dataset and other parameters based on your specific requirements.\n"
   ]
  }
 ],
 "metadata": {
  "kernelspec": {
   "display_name": "Python 3 (ipykernel)",
   "language": "python",
   "name": "python3"
  },
  "language_info": {
   "codemirror_mode": {
    "name": "ipython",
    "version": 3
   },
   "file_extension": ".py",
   "mimetype": "text/x-python",
   "name": "python",
   "nbconvert_exporter": "python",
   "pygments_lexer": "ipython3",
   "version": "3.10.8"
  }
 },
 "nbformat": 4,
 "nbformat_minor": 5
}
