{
 "cells": [
  {
   "cell_type": "markdown",
   "id": "df12db8a-6af5-4c3a-8bd0-4165c054e518",
   "metadata": {},
   "source": [
    "**Q1. Create a function which will take a list as an argument and return the product of all the numbers\n",
    "after creating a flat list.** \n",
    "\n",
    "**Use the below-given list as an argument for your function.** \n",
    "\n",
    "\n",
    "list1 = [1,2,3,4, [44,55,66, True], False, (34,56,78,89,34), {1,2,3,3,2,1}, {1:34, \"key2\": [55, 67, 78, 89], 4: (45,\n",
    "22, 61, 34)}, [56, 'data science'], 'Machine Learning'] "
   ]
  },
  {
   "cell_type": "markdown",
   "id": "f7df2649-65a5-4175-b008-934c2f80d323",
   "metadata": {},
   "source": [
    "To create a function that calculates the product of all the numbers in a flattened version of the input list, including numeric keys and values of dictionaries, you can use a recursive approach to flatten the list and then calculate the product. Here's a Python function to do that:\n",
    "\n",
    "```python\n",
    "def flatten_and_multiply(lst):\n",
    "    def flatten(lst):\n",
    "        flattened = []\n",
    "        for item in lst:\n",
    "            if isinstance(item, (list, tuple)):\n",
    "                flattened.extend(flatten(item))\n",
    "            elif isinstance(item, dict):\n",
    "                flattened.extend(flatten(item.values()))\n",
    "                flattened.extend(flatten(item.keys()))\n",
    "            elif isinstance(item, (int, float)):\n",
    "                flattened.append(item)\n",
    "        return flattened\n",
    "    \n",
    "    flattened_list = flatten(lst)\n",
    "    \n",
    "    product = 1\n",
    "    for num in flattened_list:\n",
    "        product *= num\n",
    "\n",
    "    return product\n",
    "\n",
    "# Example usage with list1\n",
    "list1 = [1, 2, 3, 4, [44, 55, 66, True], False, (34, 56, 78, 89, 34), {1, 2, 3, 3, 2, 1}, {1: 34, \"key2\": [55, 67, 78, 89], 4: (45, 22, 61, 34)}, [56, 'data science'], 'Machine Learning']\n",
    "\n",
    "result = flatten_and_multiply(list1)\n",
    "print(\"Product of all numbers in the flattened list:\", result)\n",
    "```\n",
    "\n",
    "This function first flattens the input list, considering lists, tuples, dictionaries (both keys and values), integers, and floats. Then, it calculates the product of all the numeric elements in the flattened list, which includes the numeric keys and values of dictionaries."
   ]
  },
  {
   "cell_type": "markdown",
   "id": "21e9f3bc-25c4-49f9-93be-e21ebac44f24",
   "metadata": {},
   "source": [
    "**Q2. Write a python program for encrypting a message sent to you by your friend. The logic of encryption\n",
    "should be such that, for a the output should be z. For b, the output should be y. For c, the output should\n",
    "be x respectively. Also, the whitespace should be replaced with a dollar sign. Keep the punctuation\n",
    "marks unchanged.**\n",
    "\n",
    "**Input Sentence: I want to become a Data Scientist.**\n",
    "\n",
    "**Encrypt the above input sentence using the program you just created.**\n",
    "\n",
    "Note: Convert the given input sentence into lowercase before encrypting. The final output should be\n",
    "lowercase."
   ]
  },
  {
   "cell_type": "markdown",
   "id": "06bbac01-bb9d-4401-88ad-b78b30052500",
   "metadata": {},
   "source": [
    "To create a Python program that encrypts a message based on the given logic, you can follow these steps:\n",
    "\n",
    "1. Create a mapping of characters from 'a' to 'z' and ' ' (whitespace) to their corresponding encrypted characters.\n",
    "2. Convert the input sentence to lowercase.\n",
    "3. Encrypt each character in the input sentence using the mapping.\n",
    "4. Keep punctuation marks unchanged.\n",
    "5. Return the encrypted sentence in lowercase.\n",
    "\n",
    "Here's a Python program to do that:\n",
    "\n",
    "```python\n",
    "def encrypt_message(input_sentence):\n",
    "    # Define the character mapping for encryption\n",
    "    char_mapping = {\n",
    "        'a': 'z', 'b': 'y', 'c': 'x', 'd': 'w', 'e': 'v', 'f': 'u',\n",
    "        'g': 't', 'h': 's', 'i': 'r', 'j': 'q', 'k': 'p', 'l': 'o',\n",
    "        'm': 'n', 'n': 'm', 'o': 'l', 'p': 'k', 'q': 'j', 'r': 'i',\n",
    "        's': 'h', 't': 'g', 'u': 'f', 'v': 'e', 'w': 'd', 'x': 'c',\n",
    "        'y': 'b', 'z': 'a', ' ': '$'  # Replace whitespace with $\n",
    "    }\n",
    "\n",
    "    # Convert the input sentence to lowercase\n",
    "    input_sentence = input_sentence.lower()\n",
    "\n",
    "    # Encrypt the sentence character by character\n",
    "    encrypted_sentence = ''\n",
    "    for char in input_sentence:\n",
    "        if char in char_mapping:\n",
    "            encrypted_sentence += char_mapping[char]\n",
    "        else:\n",
    "            encrypted_sentence += char  # Keep punctuation marks unchanged\n",
    "\n",
    "    return encrypted_sentence\n",
    "\n",
    "# Input sentence\n",
    "input_sentence = \"I want to become a Data Scientist.\"\n",
    "\n",
    "# Encrypt the input sentence\n",
    "encrypted_result = encrypt_message(input_sentence)\n",
    "\n",
    "# Print the encrypted result\n",
    "print(\"Encrypted Sentence:\", encrypted_result)\n",
    "```\n",
    "\n",
    "When you run this program with the provided input sentence, it will encrypt it according to the specified logic, converting to lowercase and replacing whitespace with a dollar sign."
   ]
  }
 ],
 "metadata": {
  "kernelspec": {
   "display_name": "Python 3 (ipykernel)",
   "language": "python",
   "name": "python3"
  },
  "language_info": {
   "codemirror_mode": {
    "name": "ipython",
    "version": 3
   },
   "file_extension": ".py",
   "mimetype": "text/x-python",
   "name": "python",
   "nbconvert_exporter": "python",
   "pygments_lexer": "ipython3",
   "version": "3.10.8"
  }
 },
 "nbformat": 4,
 "nbformat_minor": 5
}
