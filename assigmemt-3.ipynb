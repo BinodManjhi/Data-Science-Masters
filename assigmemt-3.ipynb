{
 "cells": [
  {
   "cell_type": "markdown",
   "id": "c4304e61-29cc-46df-9fe3-ddce76c32b3d",
   "metadata": {},
   "source": [
    "**Q1. What are the characteristics of the tuples? Is tuple immutable?**"
   ]
  },
  {
   "cell_type": "markdown",
   "id": "c1de1fb9-772b-4e5d-9111-492ad3c3df58",
   "metadata": {},
   "source": [
    "&emsp; Tuples have the given characteristics:<br>\n",
    "&emsp; 1.They are <font color=\"Yellow\">indexed</font>.<br>\n",
    "&emsp; 2.Tuples are <font color=\"Yellow\">ordered</font>.<br>\n",
    "&emsp; 3.These are <font color=\"Yellow\">immutable</font>.<br>\n",
    "&emsp; 4.They can contain <font color=\"Yellow\">duplicate items</font>.<br>\n",
    "\n",
    "&emsp; Tuple is <font color=\"Yellow\">immutable</font>. "
   ]
  },
  {
   "cell_type": "markdown",
   "id": "557394b5-854a-4f1a-b20a-4584824d587c",
   "metadata": {},
   "source": [
    "**Q2. What are the two tuple methods in python? Give an example of each method. Give a reason why\n",
    "tuples have only two in-built methods as compared to Lists.**"
   ]
  },
  {
   "cell_type": "markdown",
   "id": "95f4a159-16d3-4b5d-b16e-c54f67f32131",
   "metadata": {},
   "source": [
    "&emsp; In Python, tuples are immutable ordered collections of elements, and they have two built-in methods:"
   ]
  },
  {
   "cell_type": "markdown",
   "id": "44a5f3c6-ea23-44c6-b48d-da305776482c",
   "metadata": {},
   "source": [
    "&emsp; 1.<font color=\"Yellow\"><u>*tuple.count(x)*</u></font>: This method returns the number of occurrences of the element x in the tuple."
   ]
  },
  {
   "cell_type": "markdown",
   "id": "341eb13b-de8b-40db-a02f-7dd9d17c23f0",
   "metadata": {},
   "source": [
    "&emsp; Example:"
   ]
  },
  {
   "cell_type": "code",
   "execution_count": null,
   "id": "d6e975ef-4ebc-4e59-a8f1-1eb62a88bcdf",
   "metadata": {},
   "outputs": [],
   "source": [
    "   my_tuple = (1, 2, 2, 3, 4, 2)\n",
    "   count_of_twos = my_tuple.count(2)\n",
    "   print(count_of_twos)  # Output: 3 \n"
   ]
  },
  {
   "cell_type": "markdown",
   "id": "01fc73c6-92bb-4827-b27e-886610cf38e1",
   "metadata": {},
   "source": [
    "&emsp; 2.<font color=\"Yellow\"><u>*tuple.index(x)*</u></font>: This method returns the index of the first occurrence of the element x in the tuple. If x is not found, a ValueError is raised."
   ]
  },
  {
   "cell_type": "markdown",
   "id": "a27aa565-15dd-4df5-b386-c465abfef71b",
   "metadata": {},
   "source": [
    "&emsp; Example:"
   ]
  },
  {
   "cell_type": "code",
   "execution_count": null,
   "id": "ca55c269-d0a2-45e4-89eb-2eec876f920e",
   "metadata": {},
   "outputs": [],
   "source": [
    "   my_tuple = (10, 20, 30, 40, 50)\n",
    "   index_of_30 = my_tuple.index(30)\n",
    "   print(index_of_30)  # Output: 2\n"
   ]
  },
  {
   "cell_type": "markdown",
   "id": "96bc7d83-31a3-4ed2-be10-9efe4a8d6d85",
   "metadata": {},
   "source": [
    "&emsp; Tuples have fewer built-in methods compared to lists for a specific reason: immutability.Tuples are designed to be immutable, meaning their <br>&emsp; elements cannot be modified after creation. This immutability allows tuples to be used as keys in dictionaries and elements in sets,whereas<br>  &emsp; lists cannot be used for these purposes due to their mutability.\n",
    "\n",
    "&emsp; Since tuples are not meant to be modified, operations like append, insert, and remove are not applicable to tuples. This fundamental difference<br>  &emsp; in mutability leads to the reduced number of methods available for tuples compared to lists. Lists, being mutable, have methods that facilitate<br>  &emsp; adding, modifying, and removing elements, making them more versatile for tasks that involve dynamic data manipulation.\n"
   ]
  },
  {
   "cell_type": "markdown",
   "id": "c5d8609c-0e26-41f5-9087-42210475a44b",
   "metadata": {},
   "source": [
    "**Q3. Which collection datatypes in python do not allow duplicate items? Write a code using a set to remove\n",
    "duplicates from the given list.**"
   ]
  },
  {
   "cell_type": "markdown",
   "id": "41e49ffd-f2e6-406c-b28b-908d5bf118f4",
   "metadata": {},
   "source": [
    "&emsp; In Python, the collection datatype that does not allow duplicate items is the <font color=\"Yellow\">**set**</font>. Sets are unordered collections of unique elements.<br> &emsp; You can use sets to remove duplicates from a list easily."
   ]
  },
  {
   "cell_type": "markdown",
   "id": "1fb0741e-1755-4e2d-b7bc-ad9cb82936cb",
   "metadata": {},
   "source": [
    "&emsp; Here's an example code that demonstrates how to use a set to remove duplicates from a given list:"
   ]
  },
  {
   "cell_type": "markdown",
   "id": "72427788-b3af-4a40-8009-9c57f1b42b52",
   "metadata": {},
   "source": [
    "```python\n",
    "# Given list with duplicate items\n",
    "my_list = [1, 1, 1, 2, 1, 3, 1, 4, 2, 1, 2, 2, 2, 3, 2, 4, 3, 1, 3, 2, 3, 3, 3, 4, 4, 1, 4, 2, 4, 3, 4, 4]\n",
    "\n",
    "# Convert the list to a set to remove duplicates\n",
    "unique_items_set = set(my_list)\n",
    "\n",
    "# Convert the set back to a list if needed\n",
    "unique_list = list(unique_items_set)\n",
    "\n",
    "print(unique_list)  # Output: [1, 2, 3, 4]\n",
    "```"
   ]
  },
  {
   "cell_type": "markdown",
   "id": "67f365f2-d07f-4586-8a21-1fdedb487301",
   "metadata": {},
   "source": [
    "&emsp; In this example, by converting the list to a set, we automatically remove duplicate elements due to the nature of sets only containing unique<br> &emsp; values. Finally, if you need the result as a list again, you can convert the set back to a list."
   ]
  },
  {
   "cell_type": "markdown",
   "id": "a30b4f2a-544b-452c-9f0f-c7048bb5c4b2",
   "metadata": {},
   "source": [
    "**Q4. Explain the difference between the union() and update() methods for a set. Give an example of\n",
    "each method.**"
   ]
  },
  {
   "cell_type": "markdown",
   "id": "25168203-ef05-4324-a651-2baa22a2e334",
   "metadata": {},
   "source": [
    "&emsp; In Python, union() and update() are methods that can be used with sets, which are unordered collections of unique elements. Both methods are<br>&emsp; used to combine sets, but they have slightly different behaviors."
   ]
  },
  {
   "cell_type": "markdown",
   "id": "34993e9a-a27d-4e38-8642-f920313fc99f",
   "metadata": {},
   "source": [
    "&emsp; <font color=\"Yellow\"><u>*union() Method*</u></font><br>\n",
    "&emsp; The union() method returns a new set containing all the unique elements from the sets that are being operated on, without modifying the <br>&emsp; original      sets. It takes one or more iterable (collections like sets, lists, or tuples) as arguments and creates a new set that contains <br>&emsp; all the distinct        elements from the original set and the given iterables."
   ]
  },
  {
   "cell_type": "markdown",
   "id": "1d8ed425-bd20-4395-a145-1a0f698a32eb",
   "metadata": {},
   "source": [
    "&emsp; Here's the syntax:"
   ]
  },
  {
   "cell_type": "code",
   "execution_count": null,
   "id": "c75dfb7e-a916-4c90-afe0-093f32aa112d",
   "metadata": {},
   "outputs": [],
   "source": [
    "   result_set = set1.union(iterable1, iterable2, ...)"
   ]
  },
  {
   "cell_type": "markdown",
   "id": "1b1d35b1-5ae4-4456-8d3f-4f9b5cdfb7bc",
   "metadata": {},
   "source": [
    "&emsp; Example:"
   ]
  },
  {
   "cell_type": "code",
   "execution_count": null,
   "id": "20c16c15-9332-4121-8025-5e3969317f1e",
   "metadata": {},
   "outputs": [],
   "source": [
    "    set1 = {1, 2, 3}\n",
    "    set2 = {3, 4, 5}\n",
    "\n",
    "    result_set = set1.union(set2)\n",
    "    print(result_set)  # Output: {1, 2, 3, 4, 5}\n",
    " "
   ]
  },
  {
   "cell_type": "markdown",
   "id": "86de4aac-0a49-4ec2-ae13-d128de474f12",
   "metadata": {},
   "source": [
    "&emsp; <font color=\"Yellow\"><u>*update() Method*</u></font><br>\n",
    "&emsp; The update() method modifies the original set by adding all the unique elements from the specified iterable(s) to it. It performs an in-place <br>&emsp; modification and doesn't return a new set."
   ]
  },
  {
   "cell_type": "markdown",
   "id": "2283d272-468a-4aa0-bbc2-6956b1368c8b",
   "metadata": {},
   "source": [
    "&emsp; Here's the syntax:"
   ]
  },
  {
   "cell_type": "code",
   "execution_count": null,
   "id": "57439dc0-46b9-46b1-87d3-7d17de4bc50a",
   "metadata": {},
   "outputs": [],
   "source": [
    "   set1.update(iterable1, iterable2, ...)"
   ]
  },
  {
   "cell_type": "markdown",
   "id": "6590344e-7f68-4e42-916d-051eec749d1f",
   "metadata": {},
   "source": [
    "&emsp; Example:"
   ]
  },
  {
   "cell_type": "code",
   "execution_count": null,
   "id": "4f36b338-7acc-4ccf-a4b4-ae2c9e71a9dd",
   "metadata": {},
   "outputs": [],
   "source": [
    "    set1 = {1, 2, 3}\n",
    "    set2 = {3, 4, 5}\n",
    "\n",
    "    set1.update(set2)\n",
    "    print(set1)  # Output: {1, 2, 3, 4, 5}"
   ]
  },
  {
   "cell_type": "markdown",
   "id": "7f314ab4-8913-48ec-bfb9-6469659ce81d",
   "metadata": {},
   "source": [
    "**Q5. What is a dictionary? Give an example. Also, state whether a dictionary is ordered or unordered.**"
   ]
  },
  {
   "cell_type": "markdown",
   "id": "49a08f53-71d6-4885-a609-e7256e0814f0",
   "metadata": {},
   "source": [
    "&emsp; A dictionary in Python is a built-in data structure that stores a collection of key-value pairs. Each key in the dictionary is unique and is<br> &emsp; used to retrieve the associated value. Dictionaries are often used when you need to store and retrieve data based on a specific key,<br>\n",
    "&emsp; providing a fast way to look up values."
   ]
  },
  {
   "cell_type": "markdown",
   "id": "e672c8d6-9fea-4423-831e-c81143865294",
   "metadata": {},
   "source": [
    "&emsp; Dictionaries are enclosed in curly braces `{}` and consist of key-value pairs in the format `\"key\": value`. Keys must be immutable types (e.g., <br> &emsp; strings, numbers, tuples), while values can be of any type.\n",
    "\n",
    "&emsp; Here's an example of a dictionary:\n",
    "\n",
    "```python\n",
    "# Creating a dictionary to store information about a person\n",
    "person = {\n",
    "    \"first_name\": \"John\",\n",
    "    \"last_name\": \"Doe\",\n",
    "    \"age\": 30,\n",
    "    \"city\": \"New York\"\n",
    "}\n",
    "\n",
    "# Accessing values using keys\n",
    "print(\"First Name:\", person[\"first_name\"])\n",
    "print(\"Age:\", person[\"age\"])\n",
    "```\n",
    "\n",
    "&emsp; Output:\n",
    "```\n",
    "First Name: John\n",
    "Age: 30\n",
    "```"
   ]
  },
  {
   "cell_type": "markdown",
   "id": "d13f6e43-381b-4b01-a8b6-9dae41dd5298",
   "metadata": {},
   "source": [
    "&emsp; As of my last update in September 2021, dictionaries in Python were unordered, meaning that the order in which key-value pairs are stored in<br>&emsp; the dictionary is not guaranteed to be the same as the order in which they were added. This means that when you iterate through a <br>&emsp; dictionary, you might get the key-value pairs in a different order than they were added. However, in Python 3.7 and later versions, the <br>&emsp; insertion order of items in dictionaries is preserved, effectively making dictionaries ordered. This change was made to the language <br>&emsp; specification, so it's important to be aware of the version of Python you're using when working with dictionaries.\n",
    "\n",
    "&emsp;Keep in mind that if you're using a version of Python earlier than 3.7, dictionaries are still considered unordered, and if order matters, you <br>&emsp;might need to use a different data structure like the `collections.OrderedDict`."
   ]
  },
  {
   "cell_type": "markdown",
   "id": "9bbe209a-8998-4bfa-93a6-896ed2872ef6",
   "metadata": {},
   "source": [
    "**Q6. Can we create a nested dictionary? If so, please give an example by creating a simple one-level\n",
    "nested dictionary.**"
   ]
  },
  {
   "cell_type": "markdown",
   "id": "a6c34d8f-cd98-42f8-9a27-60dd053ff51f",
   "metadata": {},
   "source": [
    "&emsp; Yes, you can definitely create nested dictionaries in Python. A nested dictionary is a dictionary where the values associated with some of the <br>&emsp; keys are themselves dictionaries."
   ]
  },
  {
   "cell_type": "markdown",
   "id": "dbf1377f-8bbf-49d2-971d-5714b5a7dc96",
   "metadata": {},
   "source": [
    "&emsp; Here's an example of a simple one-level nested dictionary:"
   ]
  },
  {
   "cell_type": "markdown",
   "id": "c6960e2f-b2a1-4333-98cb-d0783bd1fd14",
   "metadata": {},
   "source": [
    "```python\n",
    "# Creating a nested dictionary to store information about books\n",
    "books = {\n",
    "    \"book1\": {\n",
    "        \"title\": \"The Great Gatsby\",\n",
    "        \"author\": \"F. Scott Fitzgerald\",\n",
    "        \"year\": 1925\n",
    "    },\n",
    "    \"book2\": {\n",
    "        \"title\": \"To Kill a Mockingbird\",\n",
    "        \"author\": \"Harper Lee\",\n",
    "        \"year\": 1960\n",
    "    },\n",
    "    \"book3\": {\n",
    "        \"title\": \"1984\",\n",
    "        \"author\": \"George Orwell\",\n",
    "        \"year\": 1949\n",
    "    }\n",
    "}\n",
    "\n",
    "# Accessing values in the nested dictionary\n",
    "print(\"Title of book2:\", books[\"book2\"][\"title\"])\n",
    "print(\"Author of book1:\", books[\"book1\"][\"author\"])\n",
    "print(\"Year of book3:\", books[\"book3\"][\"year\"])\n",
    "```\n",
    "\n",
    "Output:\n",
    "```\n",
    "Title of book2: To Kill a Mockingbird\n",
    "Author of book1: F. Scott Fitzgerald\n",
    "Year of book3: 1949\n",
    "```"
   ]
  },
  {
   "cell_type": "markdown",
   "id": "cb690553-9179-4831-9bc4-8b14814640bf",
   "metadata": {},
   "source": [
    "&emsp; In this example, the `books` dictionary contains three keys (`\"book1\"`, `\"book2\"`, and `\"book3\"`), each associated with another dictionary <br>&emsp; containing information about a book. This demonstrates how you can nest dictionaries to organize and store more complex data structures."
   ]
  },
  {
   "cell_type": "markdown",
   "id": "cc4cc49f-7adc-4620-a0c1-56c55d3ba0b6",
   "metadata": {},
   "source": [
    "**Q7. Using setdefault() method, create key named topics in the given dictionary and also add the value of the key as this list\n",
    "<br>&emsp;  ['Python', 'Machine Learning’, 'Deep Learning']**\n",
    "\n",
    "**dict1 = {'language' : 'Python', 'course': 'Data Science Masters'}**"
   ]
  },
  {
   "cell_type": "markdown",
   "id": "1be279f8-5582-40a8-8042-8046a0804266",
   "metadata": {},
   "source": [
    "&emsp; Certainly! The `setdefault()` method in Python dictionaries is used to insert a new key with a default value if the key doesn't already exist <br>&emsp; in the dictionary. If the key does exist, the method returns the existing value associated with the key."
   ]
  },
  {
   "cell_type": "markdown",
   "id": "656ecbf6-88d7-4fba-9143-e6232b1f894f",
   "metadata": {},
   "source": [
    "&emsp; Here's how you can use the `setdefault()` method to add the key `\"topics\"` with the specified list as its value:"
   ]
  },
  {
   "cell_type": "markdown",
   "id": "eab4b285-9372-4a78-8c38-52e1ca0e5e84",
   "metadata": {},
   "source": [
    "```python\n",
    "# Given dictionary\n",
    "dict1 = {'language': 'Python', 'course': 'Data Science Masters'}\n",
    "\n",
    "# Using setdefault() to add the \"topics\" key with a list value\n",
    "topics_list = ['Python', 'Machine Learning', 'Deep Learning']\n",
    "dict1.setdefault(\"topics\", topics_list)\n",
    "\n",
    "print(dict1)\n",
    "```\n",
    "    Output:\n",
    "```\n",
    "{'language': 'Python', 'course': 'Data Science Masters', 'topics': ['Python', 'Machine Learning', 'Deep Learning']}\n",
    "```"
   ]
  },
  {
   "cell_type": "markdown",
   "id": "97dd8cdf-9d67-4b3c-bf44-a92c344b0709",
   "metadata": {},
   "source": [
    "&emsp; In this example, the `setdefault()` method adds the key `\"topics\"` to the dictionary `my_dict` with <br>&emsp; the value `['Python', 'Machine Learning', 'Deep Learning']`. Since the key `\"topics\"` doesn't exist in the original dictionary, it's added with the provided <br>&emsp; In this example, the setdefault() method adds the key \"topics\" to the dictionary dict1 with the value ['Python', 'Machine Learning', 'Deep Learning'].<br>&emsp; Since the key \"topics\" doesn't exist in the original dictionary, it's added with the provided value.value."
   ]
  },
  {
   "cell_type": "markdown",
   "id": "b880c2bd-482b-49f7-b7ca-3b5f1add8e80",
   "metadata": {},
   "source": [
    "**Q8. What are the three view objects in dictionaries? Use the three in-built methods in python to display\n",
    "these three view objects for the given dictionary.**"
   ]
  },
  {
   "cell_type": "markdown",
   "id": "7684fd1f-813f-40dd-8749-19c7befffcbb",
   "metadata": {},
   "source": [
    "&emsp; In Python dictionaries, there are three types of view objects that provide different ways to access the keys, values, and key-value pairs in <br>&emsp; the dictionary without actually copying the data. These view objects are:"
   ]
  },
  {
   "cell_type": "markdown",
   "id": "26af69f4-b701-4472-80b5-fa6985c7f473",
   "metadata": {},
   "source": [
    "1. **`dict_keys`**: This view object represents the keys of the dictionary.\n",
    "2. **`dict_values`**: This view object represents the values of the dictionary.\n",
    "3. **`dict_items`**: This view object represents the key-value pairs of the dictionary."
   ]
  },
  {
   "cell_type": "markdown",
   "id": "5e4bed3f-29eb-43e2-99c3-0cdec173ab4d",
   "metadata": {},
   "source": [
    "&emsp; You can use the following built-in methods to obtain these view objects for a given dictionary:\n",
    "\n",
    "1. `keys()`: Returns a view object containing the keys of the dictionary.\n",
    "2. `values()`: Returns a view object containing the values of the dictionary.\n",
    "3. `items()`: Returns a view object containing the key-value pairs of the dictionary."
   ]
  },
  {
   "cell_type": "markdown",
   "id": "55dd4f36-8542-48ee-a5e7-fc06fc9d5855",
   "metadata": {},
   "source": [
    "&emsp; Here's an example using these methods:"
   ]
  },
  {
   "cell_type": "markdown",
   "id": "8eddd8d0-0ddc-48eb-b484-79e1467495b6",
   "metadata": {},
   "source": [
    "```python\n",
    "# Given dictionary\n",
    "my_dict = {\n",
    "    'language': 'Python',\n",
    "    'course': 'Data Science Masters',\n",
    "    'topics': ['Python', 'Machine Learning', 'Deep Learning']\n",
    "}\n",
    "\n",
    "# Getting the dict_keys view object\n",
    "keys_view = my_dict.keys()\n",
    "\n",
    "# Getting the dict_values view object\n",
    "values_view = my_dict.values()\n",
    "\n",
    "# Getting the dict_items view object\n",
    "items_view = my_dict.items()\n",
    "\n",
    "# Displaying the view objects\n",
    "print(\"dict_keys:\", keys_view)\n",
    "print(\"dict_values:\", values_view)\n",
    "print(\"dict_items:\", items_view)\n",
    "```\n",
    "\n",
    "&emsp; Output:\n",
    "```\n",
    "dict_keys: dict_keys(['language', 'course', 'topics'])\n",
    "dict_values: dict_values(['Python', 'Data Science Masters', ['Python', 'Machine Learning', 'Deep Learning']])\n",
    "dict_items: dict_items([('language', 'Python'), ('course', 'Data Science Masters'), ('topics', ['Python', 'Machine Learning', 'Deep Learning'])])\n",
    "```"
   ]
  },
  {
   "cell_type": "markdown",
   "id": "f4d91f07-9203-4dd2-8f94-1ff0e3fa3022",
   "metadata": {},
   "source": [
    "&emsp; In the example, you can see the view objects returned by the respective methods. These view objects allow you to access the data in the <br>&emsp; dictionary without needing to create separate lists or tuples. Keep in mind that view objects are dynamic and will reflect changes made to the <br>&emsp; original dictionary."
   ]
  },
  {
   "cell_type": "code",
   "execution_count": null,
   "id": "e9ce664f-844c-4a81-8853-3fb521cf00dc",
   "metadata": {},
   "outputs": [],
   "source": []
  }
 ],
 "metadata": {
  "kernelspec": {
   "display_name": "Python 3 (ipykernel)",
   "language": "python",
   "name": "python3"
  },
  "language_info": {
   "codemirror_mode": {
    "name": "ipython",
    "version": 3
   },
   "file_extension": ".py",
   "mimetype": "text/x-python",
   "name": "python",
   "nbconvert_exporter": "python",
   "pygments_lexer": "ipython3",
   "version": "3.10.8"
  }
 },
 "nbformat": 4,
 "nbformat_minor": 5
}
