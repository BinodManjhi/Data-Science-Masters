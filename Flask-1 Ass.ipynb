{
 "cells": [
  {
   "cell_type": "markdown",
   "id": "b4fd1abd-aa7a-4eab-83c9-365d037cfcf2",
   "metadata": {},
   "source": [
    "**Q1. What is Flask Framework? What are the advantages of Flask Framework?**"
   ]
  },
  {
   "cell_type": "markdown",
   "id": "86c48e0d-1f72-476e-903a-ac9579436bb0",
   "metadata": {},
   "source": [
    "Flask is a lightweight and flexible web framework for Python designed to make getting started with web development quick and easy. It's known for its simplicity and is built with a modular design, allowing developers to create web applications quickly and with minimal hassle. Here are some of its advantages:\n",
    "\n",
    "1. **Simplicity**: Flask is known for its simplicity. It doesn't have a lot of dependencies or boilerplate code, making it easy to get started and build applications.\n",
    "\n",
    "2. **Flexibility**: It's extremely flexible and allows developers to add any libraries or tools they need. Flask doesn't impose any restrictions on the structure and doesn't force a specific way of doing things.\n",
    "\n",
    "3. **Well-documented**: Flask has excellent documentation, making it easier for beginners to learn and understand how to use the framework.\n",
    "\n",
    "4. **Extensible**: It provides the necessary tools and libraries to build a web application but also allows developers to extend and enhance its functionality with various extensions.\n",
    "\n",
    "5. **Jinja2 Templating**: Flask uses Jinja2 templating, which allows designers and developers to work together more seamlessly by separating the design from the logic.\n",
    "\n",
    "6. **Built-in development server**: Flask comes with a built-in development server and debugger, making it easier to test and debug applications during development.\n",
    "\n",
    "7. **Support for unit testing**: Flask has built-in support for unit testing, allowing developers to test their applications easily.\n",
    "\n",
    "8. **Scalability**: While it's lightweight, Flask is scalable and can be used to build complex applications by integrating additional features and extensions.\n",
    "\n",
    "9. **Community and Ecosystem**: Flask has a large and active community, which means there are plenty of extensions and resources available for developers.\n",
    "\n",
    "These advantages make Flask a popular choice for building web applications, especially for smaller to medium-sized projects, APIs, and prototypes. However, for larger applications, some developers might prefer frameworks that provide more built-in structure and features, such as Django."
   ]
  },
  {
   "cell_type": "markdown",
   "id": "10678e5a-e2c8-4a1f-8416-68a0090dbae6",
   "metadata": {},
   "source": [
    "**Q2. Create a simple Flask application to display ‘Hello World!!’. Attach the screenshot of the output in Jupyter Notebook.**"
   ]
  },
  {
   "cell_type": "markdown",
   "id": "3a72eaed-c059-4a91-b591-6d7c00293c19",
   "metadata": {},
   "source": [
    "```python\n",
    "from flask import Flask\n",
    "\n",
    "app = Flask(__name__)\n",
    "\n",
    "@app.route('/')\n",
    "def hello_world():\n",
    "    return 'Hello World!!'\n",
    "\n",
    "if __name__ == '__main__':\n",
    "    app.run(host=\"0.0.0.0\")\n",
    "```"
   ]
  },
  {
   "cell_type": "markdown",
   "id": "3096cf40-f0f8-47b9-bbd4-48caffa9e44e",
   "metadata": {},
   "source": [
    "![](output.png)"
   ]
  },
  {
   "cell_type": "markdown",
   "id": "73efe7e4-b189-4c87-bcb7-5192068243c6",
   "metadata": {},
   "source": [
    "**Q3. What is App routing in Flask? Why do we use app routes?**"
   ]
  },
  {
   "cell_type": "markdown",
   "id": "b825c643-95bc-4371-847f-6f9708785535",
   "metadata": {},
   "source": [
    "In Flask, routing refers to the mechanism of directing incoming HTTP requests to the appropriate view functions or handlers. It involves mapping URLs (or routes) to the functions that handle those URLs. The routes are the endpoints that define how the application responds to client requests.\n",
    "\n",
    "### App Routing in Flask:\n",
    "\n",
    "In Flask, the `@app.route()` decorator is used to define routes. This decorator binds a URL to a function. When a request with a specific URL is received, Flask triggers the associated function to generate the response.\n",
    "\n",
    "For example:\n",
    "\n",
    "```python\n",
    "from flask import Flask\n",
    "\n",
    "app = Flask(__name__)\n",
    "\n",
    "@app.route('/')\n",
    "def index():\n",
    "    return 'This is the homepage'\n",
    "\n",
    "@app.route('/about')\n",
    "def about():\n",
    "    return 'About page'\n",
    "\n",
    "@app.route('/user/<username>')\n",
    "def show_user_profile(username):\n",
    "    return f'User {username}'\n",
    "```\n",
    "\n",
    "Here, `@app.route('/')`, `@app.route('/about')`, and `@app.route('/user/<username>')` are different routes. The URLs in the string argument of `@app.route()` specify the paths or endpoints for accessing those functions.\n",
    "\n",
    "### Why do we use app routes?\n",
    "\n",
    "1. **Organizing URLs**: Routes help organize different parts of your application. Each route typically represents a different page or a distinct action within the application.\n",
    "\n",
    "2. **Handling User Requests**: They direct incoming HTTP requests to the appropriate handler functions or views that will generate the HTTP response. For instance, a GET request to `/about` would trigger the function handling the `/about` route.\n",
    "\n",
    "3. **Dynamic URLs**: Routes can contain dynamic components, denoted by `<variable>`. These dynamic components allow passing variables or parameters through the URL, enabling dynamic content generation based on the URL inputs.\n",
    "\n",
    "4. **Clear URL Structure**: They help in maintaining a clean and intuitive URL structure, making it easier for developers and users to understand the functionality of different parts of the application.\n",
    "\n",
    "5. **RESTful APIs**: For web applications, particularly APIs, routes play a vital role in following RESTful principles by defining different endpoints for different resources and actions.\n",
    "\n",
    "Overall, app routing in Flask allows developers to create a logical structure for handling different parts of an application and enables the application to respond appropriately to different URLs or route patterns, enhancing the user experience and maintaining code organization."
   ]
  },
  {
   "cell_type": "markdown",
   "id": "fff02593-d76b-437f-8dfb-4833ec154362",
   "metadata": {},
   "source": [
    "**Q4. Create a “/welcome” route to display the welcome message “Welcome to ABC Corporation” and a “/”\n",
    "route to show the following details:\n",
    "<br>Company Name: ABC Corporation<br>\n",
    "Location: India<br>\n",
    "Contact Detail: 999-999-9999**"
   ]
  },
  {
   "cell_type": "markdown",
   "id": "45762fae-e00f-4796-bbbf-95074f9521db",
   "metadata": {},
   "source": [
    "Certainly! Below is a Flask application with the `/welcome` route displaying the welcome message and the `/` route showing the company details:\n",
    "\n",
    "```python\n",
    "from flask import Flask\n",
    "\n",
    "app = Flask(__name__)\n",
    "\n",
    "# Route to display welcome message\n",
    "@app.route('/welcome')\n",
    "def welcome():\n",
    "    return 'Welcome to ABC Corporation'\n",
    "\n",
    "# Route to display company details\n",
    "@app.route('/')\n",
    "def company_details():\n",
    "    details = \"\"\"\n",
    "    Company Name: ABC Corporation\n",
    "    Location: India\n",
    "    Contact Detail: 999-999-9999\n",
    "    \"\"\"\n",
    "    return details\n",
    "\n",
    "if __name__ == '__main__':\n",
    "    app.run(host=\"0.0.0.0\")\n",
    "```\n",
    "\n",
    "This code defines two routes:\n",
    "\n",
    "1. **`/welcome`**: Returns the message \"Welcome to ABC Corporation\" when accessed.\n",
    "2. **`/` (root)**: Displays the company details, including the company name, location, and contact details when the root URL is accessed.\n",
    "\n",
    "Run this Flask application, and by accessing `/welcome` and the root URL in your browser, you should see the respective messages and details."
   ]
  },
  {
   "cell_type": "markdown",
   "id": "52509fdc-be53-459f-bb86-d99b875745ae",
   "metadata": {},
   "source": [
    "![](output2.png)"
   ]
  },
  {
   "cell_type": "markdown",
   "id": "ca8b4ea4-7a0d-40d8-973f-a09da9e6b6e6",
   "metadata": {},
   "source": [
    "![](output3.png)"
   ]
  },
  {
   "cell_type": "markdown",
   "id": "685efb82-3716-405c-8ebf-d9970ee9817b",
   "metadata": {},
   "source": [
    "**Q5. What function is used in Flask for URL Building? Write a Python code to demonstrate the working of the\n",
    "url_for() function.**"
   ]
  },
  {
   "cell_type": "markdown",
   "id": "f6d44aca-0ddf-4055-947f-03d3496f26b3",
   "metadata": {},
   "source": [
    "In Flask, the `url_for()` function is used for URL building. It generates URLs based on the endpoint name provided. This function is especially helpful because it allows developers to avoid hardcoding URLs in the templates or application code. It uses the endpoint name associated with the specific route to build the URL dynamically.\n",
    "\n",
    "Here is an example to demonstrate the usage of the `url_for()` function:\n",
    "\n",
    "```python\n",
    "from flask import Flask, url_for\n",
    "\n",
    "app = Flask(__name__)\n",
    "\n",
    "@app.route('/welcome')\n",
    "def welcome():\n",
    "    return 'Welcome to ABC Corporation'\n",
    "\n",
    "@app.route('/')\n",
    "def index():\n",
    "    return 'Home Page'\n",
    "\n",
    "if __name__ == '__main__':\n",
    "    with app.test_request_context():\n",
    "        print(url_for('welcome'))  # Generating URL for the 'welcome' endpoint\n",
    "        print(url_for('index'))    # Generating URL for the 'index' endpoint\n",
    "        app.run(host=\"0.0.0.0\")\n",
    "```\n",
    "\n",
    "This code creates two routes: `/welcome` and `/`. Inside the `if __name__ == '__main__'` block, the `url_for()` function is used to generate the URLs for the endpoints 'welcome' and 'index'.\n",
    "\n",
    "When this code runs, it will output the URLs for the specified endpoints. The `url_for()` function generates the appropriate URLs based on the endpoint names provided. You can use these generated URLs in your templates or code without hardcoding the paths, making it easier to manage changes to the routes."
   ]
  }
 ],
 "metadata": {
  "kernelspec": {
   "display_name": "Python 3 (ipykernel)",
   "language": "python",
   "name": "python3"
  },
  "language_info": {
   "codemirror_mode": {
    "name": "ipython",
    "version": 3
   },
   "file_extension": ".py",
   "mimetype": "text/x-python",
   "name": "python",
   "nbconvert_exporter": "python",
   "pygments_lexer": "ipython3",
   "version": "3.10.8"
  }
 },
 "nbformat": 4,
 "nbformat_minor": 5
}
