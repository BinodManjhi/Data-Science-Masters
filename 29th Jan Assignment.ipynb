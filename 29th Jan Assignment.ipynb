{
 "cells": [
  {
   "cell_type": "markdown",
   "id": "677027e7-02d4-4c58-b554-6516bc955095",
   "metadata": {},
   "source": [
    "**1. Who developed Python Programming Language?**\n"
   ]
  },
  {
   "cell_type": "markdown",
   "id": "1077f16a-11c4-4ded-8f7d-44758f3c3754",
   "metadata": {},
   "source": [
    "&emsp;   Guido van Rossum"
   ]
  },
  {
   "cell_type": "markdown",
   "id": "45fecddd-b59b-4770-978c-81bb6aeaba84",
   "metadata": {},
   "source": [
    "**2. Which type of Programming does Python support?**\n"
   ]
  },
  {
   "cell_type": "markdown",
   "id": "d6440507-443b-4b19-9200-489ebab263cd",
   "metadata": {},
   "source": [
    "&emsp; Python is an interpreted programming language, which supports object-oriented, structured, and functional programming."
   ]
  },
  {
   "cell_type": "markdown",
   "id": "4fb8b11b-c3f7-4992-a29f-07cea6ca732a",
   "metadata": {},
   "source": [
    "**3. Is Python case sensitive when dealing with identifiers?**\n"
   ]
  },
  {
   "cell_type": "markdown",
   "id": "7dfb1784-1a78-47c3-8d19-6d27cb17f8d2",
   "metadata": {},
   "source": [
    "&emsp; Yes, Python is a case-sensitive language, so identifiers are case-sensitive."
   ]
  },
  {
   "cell_type": "markdown",
   "id": "ec11bf96-ceac-4b50-b2ca-856938fc63f2",
   "metadata": {},
   "source": [
    "**4. What is the correct extension of the Python file?**\n"
   ]
  },
  {
   "cell_type": "markdown",
   "id": "9f3d36ba-a11a-411b-aec9-19054feab07d",
   "metadata": {},
   "source": [
    "&emsp; The Files with the <font color=\"Yellow\">. py</font> extension contain the Python source code. "
   ]
  },
  {
   "cell_type": "markdown",
   "id": "cd27c9b2-2c21-4827-b19f-3480d6602d12",
   "metadata": {},
   "source": [
    "**5. Is Python code compiled or interpreted?**"
   ]
  },
  {
   "cell_type": "markdown",
   "id": "e919d1ac-2c09-4fbf-a43f-40cb23c0812e",
   "metadata": {},
   "source": [
    "&emsp; Python is an interpreted language."
   ]
  },
  {
   "cell_type": "markdown",
   "id": "693bb863-9c55-4a1e-84f4-7179605d63bf",
   "metadata": {},
   "source": [
    "**6.Name a few blocks of code used to define in Python language?**"
   ]
  },
  {
   "cell_type": "markdown",
   "id": "976ef9af-1278-4329-8b69-e7aac11d1308",
   "metadata": {
    "tags": []
   },
   "source": [
    "&emsp; In Python, there are several blocks of code used to define different structures and control flow.<br>\n",
    "&emsp; Here are a few of them:<br>\n",
    "&emsp; 1. <font color=\"Yellow\">Function Definition Block</font><br>\n",
    "&emsp; 2. <font color=\"Yellow\">Class Definition Block</font><br>\n",
    "&emsp; 3. <font color=\"Yellow\">Conditional Statements</font><br>\n",
    "&emsp; 4. <font color=\"Yellow\">Looping Statements</font><br>\n",
    "&emsp; 5. <font color=\"Yellow\">While Loop</font><br>\n",
    "&emsp; 6. <font color=\"Yellow\">Exception Handling</font> \n",
    "       \n",
    "       "
   ]
  },
  {
   "cell_type": "markdown",
   "id": "f9c61010-815c-4847-8cf2-102c2915ae99",
   "metadata": {},
   "source": [
    "**7. State a character used to give single-line comments in Python?**\n"
   ]
  },
  {
   "cell_type": "markdown",
   "id": "10d8d0a6-2c10-431b-8145-27a4da8a0946",
   "metadata": {},
   "source": [
    "&emsp; We can write a single-line comment by adding a single <font color=\"Yellow\">#</font> character before any statement or line of code."
   ]
  },
  {
   "cell_type": "markdown",
   "id": "e9ba2369-5045-48d0-bcb1-545762c42724",
   "metadata": {},
   "source": [
    "**8. Mention functions which can help us to find the version of python that we are currently working on?** \n"
   ]
  },
  {
   "cell_type": "markdown",
   "id": "398dc950-0dc6-4159-81c7-7eac3a3776ca",
   "metadata": {},
   "source": [
    "&emsp; The function <font color=\"Yellow\">sys. version</font> can help us to find the version of python that we are currently working on"
   ]
  },
  {
   "cell_type": "markdown",
   "id": "34da8bb9-33b6-4464-b242-608d3910ca59",
   "metadata": {},
   "source": [
    "**9.Python supports the creation of anonymous functions at runtime, using a construct called ____**"
   ]
  },
  {
   "cell_type": "markdown",
   "id": "53974a46-fb5a-4dc5-b9a0-e92e413dccd2",
   "metadata": {},
   "source": [
    "&emsp; Python supports the creation of anonymous functions (i.e.functions that are not bound to a name) at <br>      &emsp; runtime, using a construct called <font color=\"Yellow\">lambda</font>."
   ]
  },
  {
   "cell_type": "markdown",
   "id": "173e2c1a-7717-4d9e-9089-7665bd57fd27",
   "metadata": {},
   "source": [
    "**10.What does pip stand for python?** \n"
   ]
  },
  {
   "cell_type": "markdown",
   "id": "07f3f091-08ca-47ca-b447-dc587ebf4f6e",
   "metadata": {},
   "source": [
    "&emsp; PIP is a recursive acronym for “Preferred Installer Program” or PIP Installs Packages. It is a command-line<br> &emsp; utility that installs, reinstalls, or uninstalls PyPI packages with one simple command: pip."
   ]
  },
  {
   "cell_type": "markdown",
   "id": "902c3ffa-a056-44c7-8172-df5e3faeff5b",
   "metadata": {},
   "source": [
    "**11.Mention a few built-in functions in python?** \n"
   ]
  },
  {
   "cell_type": "markdown",
   "id": "61838e28-4bd6-40c4-bad6-c9be15a5f752",
   "metadata": {},
   "source": [
    "&emsp; Python has numerous built-in functions that are readily available for use.<br> &emsp; Here are a few examples:<br>\n",
    "&emsp; 1. <font color=\"Yellow\">print()</font> :Used to display output or print values to the console.<br>\n",
    "&emsp; 2. <font color=\"Yellow\">len()</font> :Returns the length (number of items) of an object like a string, list, or tuple.<br>\n",
    "&emsp; 3. <font color=\"Yellow\">input()</font> :Reads user input from the console as a string.<br>\n",
    "&emsp; 4. <font color=\"Yellow\">type()</font> :Returns the type of an object, such as int, float, str, etc.<br>\n",
    "&emsp; 5. <font color=\"Yellow\">range()</font> :Generates a sequence of numbers within a specified range.<br>\n",
    "\n"
   ]
  },
  {
   "cell_type": "markdown",
   "id": "49521043-dcbc-4d9f-9aa4-41a4cdb88248",
   "metadata": {},
   "source": [
    "**12. What is the maximum possible length of an identifier in Python?** "
   ]
  },
  {
   "cell_type": "markdown",
   "id": "f7835d15-7147-4b7c-9422-442a295dfc66",
   "metadata": {},
   "source": [
    "&emsp;  An identifier can have a maximum length of 79 characters in Python."
   ]
  },
  {
   "cell_type": "markdown",
   "id": "0fae3776-0918-48d9-b941-10bd46483845",
   "metadata": {},
   "source": [
    "**13. What are the benefits of using Python?** "
   ]
  },
  {
   "cell_type": "markdown",
   "id": "b45c8571-8e30-4737-a461-2f527718b3d0",
   "metadata": {},
   "source": [
    "* Easy to Code. Python is a very high-level programming language, yet it is effortless to learn\n",
    "* Easy to Read. Python code looks like simple English words. \n",
    "* Free and Open-Source\n",
    "* Robust Standard Library\n",
    "* Interpreted\n",
    "* Portable\n",
    "* Object-Oriented and Procedure-Oriented\n",
    "* Extensible"
   ]
  },
  {
   "cell_type": "markdown",
   "id": "e7946575-73e0-4b25-b8c4-d4f0e7de8396",
   "metadata": {},
   "source": [
    "**14. How is memory managed in Python?** "
   ]
  },
  {
   "cell_type": "markdown",
   "id": "42537677-5979-4ae4-bc28-b8b5b202f9f4",
   "metadata": {},
   "source": [
    "&emsp; Memory allocation can be defined as allocating a block of space in the computer memory to a program. <br>\n",
    "&emsp; In Python memory allocation and deallocation method is automatic as the Python developers created a garbage  collector for <br> &emsp; Python so that the user does not have to do manual garbage collection."
   ]
  },
  {
   "cell_type": "markdown",
   "id": "e80445fc-8a9b-4c85-9b75-428f06dc6bbf",
   "metadata": {},
   "source": [
    "**15. How to install Python on Windows and set path variables?** "
   ]
  },
  {
   "cell_type": "markdown",
   "id": "e2fb54ae-e965-40c5-b0ae-d018e47aa58d",
   "metadata": {},
   "source": [
    "&emsp; The complete path of python.exe can be added by:\n",
    "\n",
    "    1. Right-clicking This PC and going to Properties.\n",
    "\n",
    "    2. Clicking on the Advanced system settings in the menu on the left.\n",
    "\n",
    "    3. Clicking on the Environment Variables button o​n the bottom right.\n",
    "\n",
    "    4. In the System variables section, selecting the Path variable and clicking on Edit. The next screen will show all the directories that are currently a part of the PATH variable.\n",
    "\n",
    "    5. Clicking on New and entering Python’s install directory.\n",
    "\n",
    "&emsp;  Python can now be used directly from the command prompt without having to write its location.  \n",
    "&emsp;  Try executing the command python --version; it will output the version of Python installed on your system."
   ]
  },
  {
   "cell_type": "markdown",
   "id": "ce9bdf43-d9bc-4623-afd8-1b356b57c4d9",
   "metadata": {},
   "source": [
    "**16. Is indentation required in python?** "
   ]
  },
  {
   "cell_type": "markdown",
   "id": "4656c185-3f0d-4665-93fa-3ae4f61f4235",
   "metadata": {},
   "source": [
    "&emsp; Indentation is mandatory in python to define the blocks of statements. The number of spaces must be <br>\n",
    "&emsp; uniform in a block of code. It is preferred to use whitespaces instead of tabs to indent in python."
   ]
  },
  {
   "cell_type": "code",
   "execution_count": null,
   "id": "68263805-2799-4acd-b2c9-1ee9eb21984d",
   "metadata": {},
   "outputs": [],
   "source": []
  }
 ],
 "metadata": {
  "kernelspec": {
   "display_name": "Python 3 (ipykernel)",
   "language": "python",
   "name": "python3"
  },
  "language_info": {
   "codemirror_mode": {
    "name": "ipython",
    "version": 3
   },
   "file_extension": ".py",
   "mimetype": "text/x-python",
   "name": "python",
   "nbconvert_exporter": "python",
   "pygments_lexer": "ipython3",
   "version": "3.10.8"
  }
 },
 "nbformat": 4,
 "nbformat_minor": 5
}
