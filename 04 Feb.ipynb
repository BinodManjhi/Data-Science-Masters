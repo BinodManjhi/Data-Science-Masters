{
 "cells": [
  {
   "cell_type": "markdown",
   "id": "928c3596-5ab1-4a70-ad60-dc3d3b923430",
   "metadata": {},
   "source": [
    "**Q1. Create a python program to sort the given list of tuples based on integer value using a\n",
    "lambda function.<br>\n",
    "[('Sachin Tendulkar', 34357), ('Ricky Ponting', 27483), ('Jack Kallis', 25534), ('Virat Kohli', 24936)]**"
   ]
  },
  {
   "cell_type": "markdown",
   "id": "10cd7255-8fe4-422e-b7b5-b1c84c45841f",
   "metadata": {},
   "source": [
    "You can sort the list of tuples based on the integer value using a lambda function and the `sorted` function in Python. Here's a Python program to do that:\n",
    "\n",
    "```python\n",
    "data = [('Sachin Tendulkar', 34357), ('Ricky Ponting', 27483), ('Jack Kallis', 25534), ('Virat Kohli', 24936)]\n",
    "\n",
    "# Sort the list of tuples based on the integer value using a lambda function\n",
    "sorted_data = sorted(data, key=lambda x: x[1])\n",
    "\n",
    "# Print the sorted list\n",
    "for name, score in sorted_data:\n",
    "    print(f'{name}: {score}')\n",
    "```\n",
    "\n",
    "This program defines the list of tuples, and then it uses the `sorted` function with a lambda function as the `key` argument to sort the list based on the second element (the integer value) of each tuple. Finally, it prints the sorted list."
   ]
  },
  {
   "cell_type": "markdown",
   "id": "0c39a61e-99a9-46d9-9882-b68358856955",
   "metadata": {},
   "source": [
    "**Q2. Write a Python Program to find the squares of all the numbers in the given list of integers using\n",
    "lambda and map functions.<br>\n",
    "[1, 2, 3, 4, 5, 6, 7, 8, 9, 10]**"
   ]
  },
  {
   "cell_type": "markdown",
   "id": "895dd9f7-19f3-4331-a705-74288727a43a",
   "metadata": {},
   "source": [
    "You can use the `map` function along with a lambda function to find the squares of all the numbers in the given list of integers. Here's a Python program to do that:\n",
    "\n",
    "```python\n",
    "# Define the list of integers\n",
    "numbers = [1, 2, 3, 4, 5, 6, 7, 8, 9, 10]\n",
    "\n",
    "# Use map and a lambda function to find the squares of the numbers\n",
    "squares = list(map(lambda x: x ** 2, numbers))\n",
    "\n",
    "# Print the list of squares\n",
    "print(squares)\n",
    "```\n",
    "\n",
    "In this program, the `map` function applies the lambda function to each element in the `numbers` list, and the result is a new list containing the squares of the numbers. The `list()` function is used to convert the map object into a list, and then the list of squares is printed."
   ]
  },
  {
   "cell_type": "markdown",
   "id": "3077e3b9-cb05-43a4-9114-19a4b3369458",
   "metadata": {},
   "source": [
    "**Q3. Write a python program to convert the given list of integers into a tuple of strings. Use map and\n",
    "lambda functions\n",
    "Given String: [1, 2, 3, 4, 5, 6, 7, 8, 9, 10]<br>\n",
    "Expected output: ('1', '2', '3', '4', '5', '6', '7', '8', '9', '10')**"
   ]
  },
  {
   "cell_type": "markdown",
   "id": "5189594c-505f-4c61-addc-c480b4074439",
   "metadata": {},
   "source": [
    "You can use the `map` function with a lambda function to convert the given list of integers into a tuple of strings. Here's a Python program to do that:\n",
    "\n",
    "```python\n",
    "# Define the list of integers\n",
    "numbers = [1, 2, 3, 4, 5, 6, 7, 8, 9, 10]\n",
    "\n",
    "# Use map and a lambda function to convert the integers to strings\n",
    "string_tuple = tuple(map(lambda x: str(x), numbers))\n",
    "\n",
    "# Print the resulting tuple\n",
    "print(string_tuple)\n",
    "```\n",
    "\n",
    "In this program, the `map` function applies the lambda function to each element in the `numbers` list, which converts each integer to a string using `str(x)`. The result is a tuple of strings, and it is printed as the output."
   ]
  },
  {
   "cell_type": "markdown",
   "id": "fdbc148b-d170-4a85-b30f-d62e58f0e788",
   "metadata": {},
   "source": [
    "**Q4. Write a python program using reduce function to compute the product of a list containing numbers\n",
    "from 1 to 25.**"
   ]
  },
  {
   "cell_type": "markdown",
   "id": "fb919b98-0f7c-40f4-bfb3-b2d668f0c0ec",
   "metadata": {},
   "source": [
    "You can use the `reduce` function from the `functools` module to compute the product of a list containing numbers from 1 to 25. Here's a Python program to do that:\n",
    "\n",
    "```python\n",
    "from functools import reduce\n",
    "\n",
    "# Create a list of numbers from 1 to 25\n",
    "numbers = list(range(1, 26))\n",
    "\n",
    "# Define a lambda function to compute the product of two numbers\n",
    "product_function = lambda x, y: x * y\n",
    "\n",
    "# Use reduce to compute the product of all numbers in the list\n",
    "product = reduce(product_function, numbers)\n",
    "\n",
    "# Print the product\n",
    "print(\"Product of numbers from 1 to 25:\", product)\n",
    "```\n",
    "\n",
    "In this program, we first create a list `numbers` containing numbers from 1 to 25 using the `range` function. Then, we define a lambda function `product_function` that takes two arguments and computes their product.\n",
    "\n",
    "Finally, we use the `reduce` function to apply the `product_function` to all elements in the `numbers` list successively, effectively computing the product of all the numbers. The result is printed as the output."
   ]
  },
  {
   "cell_type": "markdown",
   "id": "3ffa1a4c-9f55-4cdf-8f3f-0c435df7d2fa",
   "metadata": {},
   "source": [
    "**Q5. Write a python program to filter the numbers in a given list that are divisible by 2 and 3 using the\n",
    "filter function.<br>\n",
    "[2, 3, 6, 9, 27, 60, 90, 120, 55, 46]**"
   ]
  },
  {
   "cell_type": "markdown",
   "id": "33ae1483-2608-46f5-ab83-851e4dc8e54c",
   "metadata": {},
   "source": [
    "You can use the `filter` function in Python to filter numbers in a given list that are divisible by both 2 and 3. Here's a Python program to do that:\n",
    "\n",
    "```python\n",
    "# Define the list of numbers\n",
    "numbers = [2, 3, 6, 9, 27, 60, 90, 120, 55, 46]\n",
    "\n",
    "# Use the filter function with a lambda function to filter numbers divisible by 2 and 3\n",
    "filtered_numbers = list(filter(lambda x: x % 2 == 0 and x % 3 == 0, numbers))\n",
    "\n",
    "# Print the filtered numbers\n",
    "print(filtered_numbers)\n",
    "```\n",
    "\n",
    "In this program, we use the `filter` function with a lambda function as the filtering criterion. The lambda function checks whether a number `x` is divisible by both 2 and 3 using the `%` operator. The result is a filtered list containing numbers that meet the specified condition, and it is printed as the output."
   ]
  },
  {
   "cell_type": "markdown",
   "id": "dfee34bd-e7b1-4554-8bd7-2b721dde9ae1",
   "metadata": {},
   "source": [
    "**Q6. Write a python program to find palindromes in the given list of strings using lambda and filter\n",
    "function.<br>\n",
    "['python', 'php', 'aba', 'radar', 'level']**"
   ]
  },
  {
   "cell_type": "markdown",
   "id": "0a596567-0692-4aa2-aff6-e6a570875776",
   "metadata": {},
   "source": [
    "You can use the `filter` function along with a lambda function to find palindromes in the given list of strings. Here's a Python program to do that:\n",
    "\n",
    "```python\n",
    "# Define the list of strings\n",
    "strings = ['python', 'php', 'aba', 'radar', 'level']\n",
    "\n",
    "# Use the filter function with a lambda function to filter palindromes\n",
    "palindromes = list(filter(lambda x: x == x[::-1], strings))\n",
    "\n",
    "# Print the palindromes\n",
    "print(palindromes)\n",
    "```\n",
    "\n",
    "In this program, we use the `filter` function with a lambda function as the filtering criterion. The lambda function checks whether a string `x` is equal to its reverse (i.e., whether it's a palindrome) using slicing with `x[::-1]`. The result is a filtered list containing palindromes, and it is printed as the output."
   ]
  }
 ],
 "metadata": {
  "kernelspec": {
   "display_name": "Python 3 (ipykernel)",
   "language": "python",
   "name": "python3"
  },
  "language_info": {
   "codemirror_mode": {
    "name": "ipython",
    "version": 3
   },
   "file_extension": ".py",
   "mimetype": "text/x-python",
   "name": "python",
   "nbconvert_exporter": "python",
   "pygments_lexer": "ipython3",
   "version": "3.10.8"
  }
 },
 "nbformat": 4,
 "nbformat_minor": 5
}
