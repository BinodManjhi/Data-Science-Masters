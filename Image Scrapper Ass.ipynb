{
 "cells": [
  {
   "cell_type": "code",
   "execution_count": null,
   "id": "8e73e0db-765a-47a8-971c-cf9cec4030e8",
   "metadata": {},
   "outputs": [],
   "source": [
    "import requests\n",
    "from bs4 import BeautifulSoup\n",
    "import csv\n",
    "\n",
    "url = \"https://www.youtube.com/@PW-Foundation/videos\"\n",
    "response = requests.get(url)\n",
    "soup = BeautifulSoup(response.text, 'html.parser')\n",
    "\n",
    "# Extract Video URLs\n",
    "video_urls = []\n",
    "for link in soup.find_all('a', {'class': 'yt-simple-endpoint style-scope ytd-grid-video-renderer'}):\n",
    "    video_url = f\"https://www.youtube.com{link['href']}\"\n",
    "    video_urls.append(video_url)\n",
    "\n",
    "# Extract Video Thumbnails URLs\n",
    "thumbnail_urls = []\n",
    "for img in soup.find_all('img', {'class': 'style-scope yt-img-shadow'}):\n",
    "    thumbnail_url = img['src']\n",
    "    thumbnail_urls.append(thumbnail_url)\n",
    "\n",
    "# Extract Video Titles\n",
    "titles = []\n",
    "for title in soup.find_all('a', {'id': 'video-title'}):\n",
    "    video_title = title.text.strip()\n",
    "    titles.append(video_title)\n",
    "\n",
    "# Extract Number of Views\n",
    "views = []\n",
    "for span in soup.find_all('span', {'class': 'style-scope ytd-grid-video-renderer'}):\n",
    "    if 'views' in span.text:\n",
    "        num_views = span.text.strip()\n",
    "        views.append(num_views)\n",
    "\n",
    "# Extract Time of Posting\n",
    "times = []\n",
    "for time_element in soup.find_all('a', {'class': 'yt-simple-endpoint style-scope ytd-grid-video-renderer'}):\n",
    "    if 'ago' in time_element.text:\n",
    "        post_time = time_element.text.strip()\n",
    "        times.append(post_time)\n",
    "\n",
    "# Extract the first five items from each list\n",
    "first_five_video_urls = video_urls[:5]\n",
    "first_five_thumbnail_urls = thumbnail_urls[:5]\n",
    "first_five_titles = titles[:5]\n",
    "first_five_views = views[:5]\n",
    "first_five_times = times[:5]\n",
    "\n",
    "# Save data to CSV file\n",
    "data = zip(first_five_video_urls, first_five_thumbnail_urls, first_five_titles, first_five_views, first_five_times)\n",
    "\n",
    "with open('youtube_data.csv', 'w', newline='') as csvfile:\n",
    "    csv_writer = csv.writer(csvfile)\n",
    "    csv_writer.writerow(['Video URL', 'Thumbnail URL', 'Title', 'Views', 'Posting Time'])\n",
    "    csv_writer.writerows(data)\n"
   ]
  }
 ],
 "metadata": {
  "kernelspec": {
   "display_name": "Python 3 (ipykernel)",
   "language": "python",
   "name": "python3"
  },
  "language_info": {
   "codemirror_mode": {
    "name": "ipython",
    "version": 3
   },
   "file_extension": ".py",
   "mimetype": "text/x-python",
   "name": "python",
   "nbconvert_exporter": "python",
   "pygments_lexer": "ipython3",
   "version": "3.10.8"
  }
 },
 "nbformat": 4,
 "nbformat_minor": 5
}
