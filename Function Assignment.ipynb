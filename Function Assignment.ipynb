{
 "cells": [
  {
   "cell_type": "markdown",
   "id": "68474663-7601-4095-8a5a-d1dd4a71a1fa",
   "metadata": {},
   "source": [
    "**Q1. Which keyword is used to create a function? Create a function to return a list of odd numbers in the\n",
    "range of 1 to 25.**"
   ]
  },
  {
   "cell_type": "markdown",
   "id": "25064674-2d99-4f5e-948a-29d4e65cc688",
   "metadata": {},
   "source": [
    "In Python, the keyword used to create a function is `def`. Here's a Python function that returns a list of odd numbers in the range of 1 to 25:\n",
    "\n",
    "```python\n",
    "def get_odd_numbers():\n",
    "    odd_numbers = []\n",
    "    for number in range(1, 26):\n",
    "        if number % 2 != 0:\n",
    "            odd_numbers.append(number)\n",
    "    return odd_numbers\n",
    "```\n",
    "\n",
    "You can call this function by simply writing `get_odd_numbers()` in your Python code, and it will return a list of odd numbers in the specified range."
   ]
  },
  {
   "cell_type": "markdown",
   "id": "1df057f1-dd87-4bd8-90f7-3211817f31a2",
   "metadata": {},
   "source": [
    "Q2. Why *args and **kwargs is used in some functions? Create a function each for *args and **kwargs to\n",
    "demonstrate their use."
   ]
  },
  {
   "cell_type": "markdown",
   "id": "54a631c7-a875-419f-8f84-faf789a4e958",
   "metadata": {},
   "source": [
    "In Python, `*args` and `**kwargs` are used to allow a function to accept a variable number of positional arguments and keyword arguments, respectively. They are often used when you want to create more flexible functions that can handle different numbers of inputs without explicitly specifying them in the function definition.\n",
    "\n",
    "Here's an example of how to use `*args` and `**kwargs`:\n",
    "\n",
    "**Using *args (Variable-Length Positional Arguments):**\n",
    "\n",
    "```python\n",
    "def print_args(*args):\n",
    "    for arg in args:\n",
    "        print(arg)\n",
    "\n",
    "# You can call this function with any number of positional arguments\n",
    "print_args(1, 2, 3, \"Hello\", \"World\")\n",
    "```\n",
    "\n",
    "In the above example, `*args` allows the `print_args` function to accept any number of positional arguments, which are then printed one by one.\n",
    "\n",
    "**Using **kwargs (Variable-Length Keyword Arguments):**\n",
    "\n",
    "```python\n",
    "def print_kwargs(**kwargs):\n",
    "    for key, value in kwargs.items():\n",
    "        print(f\"{key}: {value}\")\n",
    "\n",
    "# You can call this function with any number of keyword arguments\n",
    "print_kwargs(name=\"Alice\", age=30, city=\"New York\")\n",
    "```\n",
    "\n",
    "In this example, `**kwargs` allows the `print_kwargs` function to accept any number of keyword arguments. It iterates through the keyword arguments and prints both the key and the corresponding value.\n",
    "\n",
    "You can call these functions with different numbers of arguments and keyword arguments as needed, making them versatile for various use cases."
   ]
  },
  {
   "cell_type": "markdown",
   "id": "54d071f0-5848-446b-83a4-232034665bb5",
   "metadata": {},
   "source": [
    "**Q3. What is an iterator in python? Name the method used to initialise the iterator object and the method\n",
    "used for iteration. Use these methods to print the first five elements of the given list [2, 4, 6, 8, 10, 12, 14, 16,\n",
    "18, 20].**"
   ]
  },
  {
   "cell_type": "markdown",
   "id": "60bfa89c-00a0-40fe-b462-1fd1d09b1dc4",
   "metadata": {},
   "source": [
    "In Python, an iterator is an object that represents a sequence of data, and it provides two essential methods:\n",
    "\n",
    "1. **`__iter__()`**: This method is used to initialize the iterator object. It returns the iterator object itself. This method is called when you use an iterator in a `for` loop or when you call the `iter()` function on an iterable object.\n",
    "\n",
    "2. **`__next__()`**: This method is used for iteration. It returns the next value from the iterator's sequence. When there are no more items to return, it raises the `StopIteration` exception.\n",
    "\n",
    "Here's how you can use these methods to print the first five elements of the given list `[2, 4, 6, 8, 10, 12, 14, 16, 18, 20]` using a custom iterator:\n",
    "\n",
    "```python\n",
    "class MyIterator:\n",
    "    def __init__(self, data):\n",
    "        self.data = data\n",
    "        self.index = 0\n",
    "\n",
    "    def __iter__(self):\n",
    "        return self\n",
    "\n",
    "    def __next__(self):\n",
    "        if self.index < len(self.data):\n",
    "            value = self.data[self.index]\n",
    "            self.index += 1\n",
    "            return value\n",
    "        else:\n",
    "            raise StopIteration\n",
    "\n",
    "# Create an instance of the custom iterator\n",
    "my_iter = MyIterator([2, 4, 6, 8, 10, 12, 14, 16, 18, 20])\n",
    "\n",
    "# Use the iterator to print the first five elements\n",
    "for _ in range(5):\n",
    "    print(next(my_iter))\n",
    "```\n",
    "\n",
    "In this code, we define a custom iterator `MyIterator` with the `__iter__()` and `__next__()` methods. We then create an instance of this iterator and use it in a `for` loop to print the first five elements of the list."
   ]
  },
  {
   "cell_type": "markdown",
   "id": "b81ba572-04c4-4f67-b599-84219d64eea7",
   "metadata": {},
   "source": [
    "**Q4. What is a generator function in python? Why yield keyword is used? Give an example of a generator\n",
    "function.**"
   ]
  },
  {
   "cell_type": "markdown",
   "id": "27390cce-ac5c-4377-80aa-5a87b40020dc",
   "metadata": {},
   "source": [
    "A generator function in Python is a special type of function that allows you to create an iterator, often used for generating a sequence of values lazily, one at a time. Generator functions use the `yield` keyword instead of `return` to yield a value from the function while maintaining its state, allowing it to resume execution from where it left off when the next value is requested.\n",
    "\n",
    "The key advantages of using generator functions with `yield` are:\n",
    "\n",
    "1. Memory Efficiency: Generator functions are memory-efficient because they generate values on-the-fly, without the need to store the entire sequence in memory. This is especially useful when dealing with large datasets or infinite sequences.\n",
    "\n",
    "2. Lazy Evaluation: Values are produced as needed, which can improve performance and reduce initialization time for sequences that are not fully utilized.\n",
    "\n",
    "Here's an example of a generator function that yields a sequence of squares of numbers up to a specified limit:\n",
    "\n",
    "```python\n",
    "def square_numbers(limit):\n",
    "    n = 1\n",
    "    while n <= limit:\n",
    "        yield n * n\n",
    "        n += 1\n",
    "\n",
    "# Using the generator function\n",
    "gen = square_numbers(5)  # Create a generator object\n",
    "for num in gen:\n",
    "    print(num)\n",
    "```\n",
    "\n",
    "In this example, `square_numbers` is a generator function that yields the square of numbers from 1 up to the specified `limit`. When you create a generator object `gen` and iterate through it, each time you iterate, the function's execution is paused at the `yield` statement, and the yielded value is returned. The function's state is retained, so it can continue from where it paused in the next iteration.\n",
    "\n",
    "This lazy evaluation and memory-efficient approach makes generator functions particularly useful when working with large datasets or when you want to generate values on-the-fly without storing them in memory."
   ]
  },
  {
   "cell_type": "markdown",
   "id": "2ddd4bfc-adf2-443a-a3ce-06d4f8b09269",
   "metadata": {},
   "source": [
    "**Q5. Create a generator function for prime numbers less than 1000. Use the next() method to print the\n",
    "first 20 prime numbers.**"
   ]
  },
  {
   "cell_type": "markdown",
   "id": "5bf9e513-eab2-497a-bd03-647488762121",
   "metadata": {},
   "source": [
    "Certainly! Here's a generator function that yields prime numbers less than 1000, and we'll use the `next()` method to print the first 20 prime numbers:\n",
    "\n",
    "```python\n",
    "def is_prime(number):\n",
    "    if number <= 1:\n",
    "        return False\n",
    "    if number <= 3:\n",
    "        return True\n",
    "    if number % 2 == 0 or number % 3 == 0:\n",
    "        return False\n",
    "    i = 5\n",
    "    while i * i <= number:\n",
    "        if number % i == 0 or number % (i + 2) == 0:\n",
    "            return False\n",
    "        i += 6\n",
    "    return True\n",
    "\n",
    "def prime_generator():\n",
    "    number = 2\n",
    "    count = 0\n",
    "    while count < 20:  # Generate the first 20 prime numbers\n",
    "        if is_prime(number):\n",
    "            yield number\n",
    "            count += 1\n",
    "        number += 1\n",
    "\n",
    "# Create a generator object\n",
    "gen = prime_generator()\n",
    "\n",
    "# Use the next() method to print the first 20 prime numbers\n",
    "for _ in range(20):\n",
    "    print(next(gen))\n",
    "```\n",
    "\n",
    "In this code:\n",
    "\n",
    "1. The `is_prime` function checks whether a given number is prime.\n",
    "\n",
    "2. The `prime_generator` generator function generates prime numbers. It starts from 2 and yields prime numbers until it has yielded the first 20 prime numbers.\n",
    "\n",
    "3. We create a generator object `gen` from the `prime_generator` function.\n",
    "\n",
    "4. We use a `for` loop and the `next()` method to print the first 20 prime numbers generated by the generator.\n",
    "\n",
    "This code will generate and print the first 20 prime numbers less than 1000 using the generator function."
   ]
  }
 ],
 "metadata": {
  "kernelspec": {
   "display_name": "Python 3 (ipykernel)",
   "language": "python",
   "name": "python3"
  },
  "language_info": {
   "codemirror_mode": {
    "name": "ipython",
    "version": 3
   },
   "file_extension": ".py",
   "mimetype": "text/x-python",
   "name": "python",
   "nbconvert_exporter": "python",
   "pygments_lexer": "ipython3",
   "version": "3.10.8"
  }
 },
 "nbformat": 4,
 "nbformat_minor": 5
}
