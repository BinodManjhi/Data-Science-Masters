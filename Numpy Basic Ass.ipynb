{
 "cells": [
  {
   "cell_type": "markdown",
   "id": "8db13855-1608-474e-85d0-97d53e84b7ad",
   "metadata": {},
   "source": [
    "import numpy as np<br>\n",
    "list_ = [ ‘1’ , ’2’ , ‘3’ , ‘4’ , ‘5’ ]<br>\n",
    "array_list = np.array(object = list_)<br>\n",
    "\n",
    "**Q1. Is there any difference in the data type of variables list_ and array_list? If there is then write a code\n",
    "to print the data types of both the variables.**"
   ]
  },
  {
   "cell_type": "markdown",
   "id": "d34ff920-1801-43fb-848b-477cf5fd393e",
   "metadata": {},
   "source": [
    "Yes, there is a difference in the data type of the `list_` and `array_list` variables. The elements in the `list_` variable are strings, while the elements in the `array_list` variable are of the data type inferred by NumPy. Let's write a code to print the data types of both variables:\n",
    "\n",
    "```python\n",
    "import numpy as np\n",
    "\n",
    "list_ = ['1', '2', '3', '4', '5']\n",
    "array_list = np.array(object=list_)\n",
    "\n",
    "# Print data types\n",
    "print(\"Data type of list_:\", type(list_[0]))\n",
    "print(\"Data type of array_list:\", array_list.dtype)\n",
    "```\n",
    "\n",
    "This code prints the data type of the first element in the `list_` variable and the data type of the elements in the `array_list` variable. The data type of `list_[0]` will be `str` (string), and the data type of `array_list` will be inferred by NumPy based on the input elements, and it will typically be `numpy.str_` or `numpy.object_` in this case, depending on the NumPy version."
   ]
  },
  {
   "cell_type": "markdown",
   "id": "373b97c7-5e2d-484b-acea-db08c87bf82e",
   "metadata": {},
   "source": [
    "**Q2. Write a code to print the data type of each and every element of both the variables list_ and\n",
    "arra_list.**"
   ]
  },
  {
   "cell_type": "markdown",
   "id": "8f0f1e03-4797-4c3d-adb5-e2d885fcf318",
   "metadata": {},
   "source": [
    "Certainly! You can use a loop to iterate through each element in both the `list_` and `array_list` and print their respective data types. Here's the code:\n",
    "\n",
    "```python\n",
    "import numpy as np\n",
    "\n",
    "list_ = ['1', '2', '3', '4', '5']\n",
    "array_list = np.array(object=list_)\n",
    "\n",
    "# Print data types of each element in list_\n",
    "print(\"Data types in list_:\")\n",
    "for element in list_:\n",
    "    print(type(element))\n",
    "\n",
    "# Print data types of each element in array_list\n",
    "print(\"\\nData types in array_list:\")\n",
    "for element in array_list:\n",
    "    print(type(element))\n",
    "```\n",
    "\n",
    "This code will print the data type of each element in both `list_` and `array_list`. Note that in the case of `array_list`, the data type may be the NumPy specific data type like `numpy.str_` or `numpy.object_`."
   ]
  },
  {
   "cell_type": "markdown",
   "id": "78a7ec31-91de-451a-b888-545dea874446",
   "metadata": {},
   "source": [
    "**Q3. Considering the following changes in the variable, array_list:**<br>\n",
    "array_list = np.array(object = list_, dtype = int)<br>\n",
    "Will there be any difference in the data type of the elements present in both the variables, list_ and<br>\n",
    "arra_list? If so then print the data types of each and every element present in both the variables, list_\n",
    "and arra_list.<br>\n",
    "Consider the below code to answer further questions:<br>\n",
    "import numpy as np<br>\n",
    "num_list = [ [ 1 , 2 , 3 ] , [ 4 , 5 , 6 ] ]<br>\n",
    "num_array = np.array(object = num_list)<br>"
   ]
  },
  {
   "cell_type": "markdown",
   "id": "703ff4af-599a-4129-851d-251c4593b346",
   "metadata": {},
   "source": [
    "Yes, there will be a difference in the data type of the elements present in both the `list_` and the updated `array_list` because you've specified the `dtype` as `int` during the creation of `array_list`. Let's print the data types of each element in both variables:\n",
    "\n",
    "```python\n",
    "import numpy as np\n",
    "\n",
    "# Original list\n",
    "list_ = ['1', '2', '3', '4', '5']\n",
    "\n",
    "# Updated array_list with dtype=int\n",
    "array_list = np.array(object=list_, dtype=int)\n",
    "\n",
    "# Print data types of each element in list_\n",
    "print(\"Data types in list_:\")\n",
    "for element in list_:\n",
    "    print(type(element))\n",
    "\n",
    "# Print data types of each element in updated array_list\n",
    "print(\"\\nData types in updated array_list:\")\n",
    "for element in array_list:\n",
    "    print(type(element))\n",
    "```\n",
    "\n",
    "Now, regarding the provided code snippet:\n",
    "\n",
    "```python\n",
    "import numpy as np\n",
    "\n",
    "num_list = [[1, 2, 3], [4, 5, 6]]\n",
    "num_array = np.array(object=num_list)\n",
    "```\n",
    "\n",
    "This creates a 2D NumPy array (`num_array`) from the nested list `num_list`. Each element in `num_array` will be of type `int`, as the elements in `num_list` are integers. If you want to print the data types of each element in `num_list` and `num_array`, you can modify the code as follows:\n",
    "\n",
    "```python\n",
    "# Print data types of each element in num_list\n",
    "print(\"Data types in num_list:\")\n",
    "for sublist in num_list:\n",
    "    for element in sublist:\n",
    "        print(type(element))\n",
    "\n",
    "# Print data types of each element in num_array\n",
    "print(\"\\nData types in num_array:\")\n",
    "for sublist in num_array:\n",
    "    for element in sublist:\n",
    "        print(type(element))\n",
    "```\n",
    "\n",
    "This will print the data types of each individual element in both `num_list` and `num_array`."
   ]
  },
  {
   "cell_type": "markdown",
   "id": "ed48f3f7-7bdc-451c-b2b2-438b873ad0e4",
   "metadata": {},
   "source": [
    "**Q4. Write a code to find the following characteristics of variable, num_array:**<br>\n",
    "(i) shape<br>\n",
    "(ii) size<br>"
   ]
  },
  {
   "cell_type": "markdown",
   "id": "adafb807-2312-4e12-b338-7cc69409c8ba",
   "metadata": {},
   "source": [
    "The shape attribute gives you a tuple representing the dimensions of the array, and the size attribute gives you the total number of elements in the array.\n",
    "\n",
    "Certainly! Here's a different example:\n",
    "\n",
    "```python\n",
    "import numpy as np\n",
    "\n",
    "# Create a 2x3 array with random integers\n",
    "random_array = np.random.randint(1, 10, size=(2, 3))\n",
    "\n",
    "# (i) Find the shape of random_array\n",
    "shape_of_random_array = random_array.shape\n",
    "\n",
    "# (ii) Find the size of random_array\n",
    "size_of_random_array = random_array.size\n",
    "\n",
    "# Print the characteristics\n",
    "print(\"Array:\")\n",
    "print(random_array)\n",
    "print(\"Shape of random_array:\", shape_of_random_array)\n",
    "print(\"Size of random_array:\", size_of_random_array)\n",
    "```\n",
    "\n",
    "In this example, I've created a 2x3 NumPy array (`random_array`) with random integers between 1 and 10. The code then prints the array, its shape, and its size. You can replace the creation of `random_array` with your own array data or use different shapes to explore various scenarios."
   ]
  },
  {
   "cell_type": "markdown",
   "id": "81c97b38-06d0-43fc-95de-1856800a53a1",
   "metadata": {},
   "source": [
    "**Q5. Write a code to create numpy array of 3*3 matrix containing zeros only, using a numpy array\n",
    "creation function.**<br>\n",
    "[Hint: The size of the array will be 9 and the shape will be (3,3).]"
   ]
  },
  {
   "cell_type": "markdown",
   "id": "a3db4e32-1198-4268-9a3c-7d3b8454f351",
   "metadata": {},
   "source": [
    "Certainly! You can use the `np.zeros` function to create a 3x3 NumPy array containing zeros. Here's the code:\n",
    "\n",
    "```python\n",
    "import numpy as np\n",
    "\n",
    "# Create a 3x3 array containing zeros\n",
    "zero_array = np.zeros((3, 3))\n",
    "\n",
    "# Print the array\n",
    "print(zero_array)\n",
    "```\n",
    "\n",
    "In this code, `np.zeros((3, 3))` creates a 3x3 array filled with zeros. The shape of the array is specified as `(3, 3)`. The resulting `zero_array` will look like this:\n",
    "\n",
    "```\n",
    "[[0. 0. 0.]\n",
    " [0. 0. 0.]\n",
    " [0. 0. 0.]]\n",
    "```"
   ]
  },
  {
   "cell_type": "markdown",
   "id": "72c37cba-d4d1-443d-bbff-bed48747bb64",
   "metadata": {},
   "source": [
    "**Q6. Create an identity matrix of shape (5,5) using numpy functions?**<br>\n",
    "[Hint: An identity matrix is a matrix containing 1 diagonally and other elements will be 0.]"
   ]
  },
  {
   "cell_type": "markdown",
   "id": "e1f45a4d-4ea4-4e66-a760-cadd81fb5125",
   "metadata": {},
   "source": [
    "Certainly! You can use the `np.diag` function to create a diagonal matrix with the specified diagonal elements. Here's the code:\n",
    "\n",
    "```python\n",
    "import numpy as np\n",
    "\n",
    "# Create a 5x5 diagonal matrix with diagonal elements equal to 1\n",
    "data1 = np.diag([1, 1, 1, 1, 1])\n",
    "\n",
    "# Print the diagonal matrix\n",
    "print(data1)\n",
    "```\n",
    "\n",
    "The resulting `data1` will look like this:\n",
    "\n",
    "```\n",
    "[[1 0 0 0 0]\n",
    " [0 1 0 0 0]\n",
    " [0 0 1 0 0]\n",
    " [0 0 0 1 0]\n",
    " [0 0 0 0 1]]\n",
    "```\n",
    "\n",
    "This is equivalent to the identity matrix, as all diagonal elements are 1, and the off-diagonal elements are 0."
   ]
  }
 ],
 "metadata": {
  "kernelspec": {
   "display_name": "Python 3 (ipykernel)",
   "language": "python",
   "name": "python3"
  },
  "language_info": {
   "codemirror_mode": {
    "name": "ipython",
    "version": 3
   },
   "file_extension": ".py",
   "mimetype": "text/x-python",
   "name": "python",
   "nbconvert_exporter": "python",
   "pygments_lexer": "ipython3",
   "version": "3.10.8"
  }
 },
 "nbformat": 4,
 "nbformat_minor": 5
}
